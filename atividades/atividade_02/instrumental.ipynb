{
 "cells": [
  {
   "cell_type": "markdown",
   "metadata": {},
   "source": [
    "\n",
    "<p>\n",
    "<img style=\"height:45px; margin-top:0\" height=\"45px\" src=\"https://upload.wikimedia.org/wikipedia/commons/thumb/8/84/Claw-hammer.jpg/800px-Claw-hammer.jpg\" align=\"left\"/>\n",
    "</p>\n",
    "\n",
    "# Computação Instrumental\n",
    "\n",
    "## Usando Python, via Google Colab\n",
    "\n",
    "-------------------\n",
    "<!--\n",
    "<a href=\"https://colab.research.google.com/github/borismarin/atividades-neuro-comp/blob/master/comp_instrumental/instrumental.ipynb\">\n",
    "<img src=\"https://colab.research.google.com/assets/colab-badge.svg\" align=\"left\"/>\n",
    "</a>\n",
    "-->\n"
   ]
  },
  {
   "cell_type": "markdown",
   "metadata": {},
   "source": [
    "### O que <span style=\"color:red\">não</span> são estas notas?\n",
    "- um curso completo de `python`. Veja https://docs.python.org/pt-br/3/tutorial/\n",
    "- um curso de programação em geral. Veja http://openbookproject.net/thinkcs/python/english3e/\n",
    "- um curso de computação científica. Veja http://eaton.math.rpi.edu/Faculty/Holmes/Books/NumComp/index.sci_comp_data.html \n",
    "\n",
    "A ideia deste roteiro é fazer com que se consiga, rapidamente, utilizar o computador como uma **ferramenta**, ou seja, um instrumento (com o qual temos idealmente familiaridade) que facilite a execução de outras atividades (geralmente mais interessantes do que o uso da ferramenta em si mesmo). O mesmo se aplica, por exemplo, ao estudo de um instrumento musical (na maioria das vezes, a atividade fim é fazer música!).\n",
    "\n"
   ]
  },
  {
   "cell_type": "markdown",
   "metadata": {},
   "source": [
    "## Importante!\n",
    "--------------------\n",
    "\n",
    "> Ao seguir este roteiro, tenha em mente a ideia de que *computação não é culinária, nem laboratório de química*. \n",
    ">\n",
    "> Aqui, nada vai explodir, estragar ou desaparecer se você fuçar, modificar ou errar algo. Sempre é possível  revertar à versão original deste roteiro, livre de quaisquer problemas eventualmente introduzidos.\n",
    "> \n",
    "> Portanto, **sinta-se a vontade para explorar e modificar** o código, sem receio de estragar tudo ou perder algo.\n",
    "\n",
    "--------------------"
   ]
  },
  {
   "cell_type": "markdown",
   "metadata": {
    "slideshow": {
     "slide_type": "slide"
    }
   },
   "source": [
    "## Como usar este guia\n",
    "- Se você nunca usou _Python_ ou tem pouca experiência com programação, sugiro seguir o documento inteiro.\n",
    "- Para quem está buscando uma \"receita\" para fazer algo, é possível buscar a seção de interesse com o Índice abaixo \n",
    "- Outra maneira conveniente consiste em buscar algum termo de interesse usando com <kbd>Control-f</kbd>\n",
    "- Estas notas surgiram a partir de dúvidas típicas de estudantes de graduação, e são um trabalho em progresso. Caso algo não esteja claro, ou tiverem sugestões, por favor entrem em contato!\n",
    "\n",
    "**Atenção**: se você pular para alguma parte intermediária de uma seção e estiver encontrando erros ao executar células, lembre-se de **avaliar todas as células precedentes** (na mesma seção), já que pode haver variáveis definidas anteriormente."
   ]
  },
  {
   "cell_type": "markdown",
   "metadata": {},
   "source": [
    "## Conteúdo:\n",
    "* [Células](#celulas)\n",
    "* [Operações elementares](#operacoes)\n",
    "* [Variáveis](#variaveis)\n",
    "* [Funções](#funcoes)\n",
    "* [Importando Pacotes](#import)\n",
    "* [Listas](#listas)\n",
    "* [Dicionários](#dicionarios)\n",
    "* [Condições e Comparações](#logica)\n",
    "* [Repetindo](#for)\n",
    "* [Gráficos!](#graficos)\n",
    "* [Funções que operam em vários valores](#numpy)\n",
    "* [Trabalhando com dados externos](#dados)\n"
   ]
  },
  {
   "cell_type": "markdown",
   "metadata": {},
   "source": [
    "## Células <a name=\"celulas\"></a>\n",
    "Esta página que você está lendo é um [jupyter notebook](https://jupyter-notebook.readthedocs.io/en/stable/). O conteúdo num notebook é organizado em _células_. Esta, por exemplo, é uma célula que contém texto. Logo abaixo, temos uma célula de código, que contém instruções na linguagem _Python_."
   ]
  },
  {
   "cell_type": "code",
   "execution_count": 73,
   "metadata": {},
   "outputs": [
    {
     "data": {
      "text/plain": [
       "3"
      ]
     },
     "execution_count": 73,
     "metadata": {},
     "output_type": "execute_result"
    }
   ],
   "source": [
    "# Este é um comentário, dentro de uma célula de código\n",
    "# Comentários começam com o caractere #, e não são tratados como código\n",
    "# Na linha abaixo, temos uma expressão válida em Python\n",
    "1 + 2"
   ]
  },
  {
   "cell_type": "markdown",
   "metadata": {},
   "source": [
    "Note que o resultado da _avaliação_ da última expressão em uma célula de código (no caso acima, `1+2`) aparece logo abaixo da célula (é esse `3` aqui em cima, depois de `Out`).\n",
    "\n",
    "Para _executar_ ou _avaliar_ uma célula, clique sobre ela e aperte <kbd>Ctrl</kbd>+<kbd>⏎ Enter</kbd>. Experimente abaixo:"
   ]
  },
  {
   "cell_type": "code",
   "execution_count": null,
   "metadata": {},
   "outputs": [],
   "source": [
    "# Clique aqui e aperte Ctrl+Enter\n",
    "# O que deve aparecer logo abaixo?\n",
    "3 * 4"
   ]
  },
  {
   "cell_type": "markdown",
   "metadata": {},
   "source": [
    "### Células de texto\n",
    "Células tipo _texto_ (como esta que você está lendo) também podem ser _avaliadas_. Para entender qual o resultado,  faça um clique duplo sobre esta célula (tente isso agora!).\n",
    "\n",
    "Se você fez corretamente, deve estar vendo texto não formatado (com cara de código) na célula.\n",
    "\n",
    "Aperte Ctrl+Enter para que esta célula seja _avaliada_ e volte a aparecer como texto formatado."
   ]
  },
  {
   "cell_type": "markdown",
   "metadata": {},
   "source": [
    "#### Formatando o texto usando Markdown\n",
    "Nma células tipo texto, podemos formatar o conteúdo utilizando a linguagem [Markdown](https://jupyter-notebook.readthedocs.io/en/stable/examples/Notebook/Working%20With%20Markdown%20Cells.html). \n",
    "\n",
    "Isto nos permite fazer coisas tipo:\n",
    "- listas (isso é uma lista!)\n",
    "- criar [hyperlinks](https://en.wikipedia.org/wiki/Hyperlink) (<- como este)\n",
    "- divisão em títulos / subtítulos / seções (estamos numa seção chamada _Formatando o texto usando Markdown_)\n",
    "- Enfatizar trechos com *itálico* ou **negrito**.\n",
    "- matemática usando [mathjax](https://math.meta.stackexchange.com/questions/5020/mathjax-basic-tutorial-and-quick-reference): $e^{i\\pi}+1 = 0$\n",
    "- código com cara de código: `if(0){return 1;}` \n",
    "- inserir imagens: ![logo-python](https://www.python.org/static/community_logos/python-powered-h-50x65.png)\n",
    "\n",
    "\n",
    "Para ver como fazer estas coisas, utilize o clique duplo sobre esta célula, e estude a sintaxe. Há [vários manuais](https://github.com/adam-p/markdown-here/wiki/Markdown-Cheatsheet) de referência sobre Markdown na rede, fora o link acima.\n"
   ]
  },
  {
   "cell_type": "markdown",
   "metadata": {},
   "source": [
    "### Criando Células\n",
    "\n",
    "Para adicionar uma nova célula ao notebook, você pode usar os botões <kbd>+ Code</kbd> ou <kbd>+ Text</kbd>\n",
    "na barra de ferramentas no topo da tela, conforme a figura abaixo:\n",
    "\n",
    "![adiciona célula](https://github.com/borismarin/sample-data/raw/master/fig/adiciona-cel.png)\n",
    "    \n",
    "Tente criar uma célula tipo texto (<kbd>+ Text</kbd>) logo abaixo desta, e pratique um pouco de _Markdown_.\n",
    "\n",
    "#### Apagando células\n",
    "\n",
    "Para apagar uma célula, selecione-a e procure o ícone da lixeira no menu que aparece à direita, no topo da célula:\n",
    "\n",
    "![deleta célula](https://github.com/borismarin/sample-data/raw/master/fig/deleta-cel.png)\n",
    "\n",
    "Aproveite para apagar sua célula de testes, que deve ter sido criada abaixo desta."
   ]
  },
  {
   "cell_type": "markdown",
   "metadata": {},
   "source": [
    "## Operações elementares <a name=\"operacoes\"></a>\n",
    "\n",
    "### Aritmética\n",
    "\n",
    "Vamos usar _Python_ como uma calculadora. Você consegue antever o resultado de cada uma \n",
    "das operações seguintes?\n",
    "\n",
    "Para facilitar, aperte <kbd>⇧ Shift</kbd>+<kbd>⏎ Enter</kbd> para avaliar uma célula e selecionar automaticamente \n",
    "a próxima. \n",
    "\n",
    "Faça isso para as próximas 6 células de código."
   ]
  },
  {
   "cell_type": "code",
   "execution_count": null,
   "metadata": {},
   "outputs": [],
   "source": [
    "-1 + 2 * 3"
   ]
  },
  {
   "cell_type": "code",
   "execution_count": null,
   "metadata": {},
   "outputs": [],
   "source": [
    "(-1 + 2) * 3"
   ]
  },
  {
   "cell_type": "code",
   "execution_count": null,
   "metadata": {},
   "outputs": [],
   "source": [
    "6 / 2"
   ]
  },
  {
   "cell_type": "code",
   "execution_count": null,
   "metadata": {},
   "outputs": [],
   "source": [
    "7 / 2"
   ]
  },
  {
   "cell_type": "code",
   "execution_count": null,
   "metadata": {},
   "outputs": [],
   "source": [
    "7 // 2"
   ]
  },
  {
   "cell_type": "code",
   "execution_count": null,
   "metadata": {},
   "outputs": [],
   "source": [
    "8 ** 2"
   ]
  },
  {
   "cell_type": "code",
   "execution_count": null,
   "metadata": {},
   "outputs": [],
   "source": [
    "9 ** 0.5"
   ]
  },
  {
   "cell_type": "markdown",
   "metadata": {},
   "source": [
    "#### Notação científica\n",
    "\n",
    "Para representar números como $6.02 \\times 10^{23}$, usamos a notação `6.02e23`. A letra `e` no meio de dois números $a$ e $b$ representa $a\\times10^b$:"
   ]
  },
  {
   "cell_type": "code",
   "execution_count": 75,
   "metadata": {},
   "outputs": [
    {
     "data": {
      "text/plain": [
       "6.022e+23"
      ]
     },
     "execution_count": 75,
     "metadata": {},
     "output_type": "execute_result"
    }
   ],
   "source": [
    "6.022e23  # um mol é mais que uma dúzia"
   ]
  },
  {
   "cell_type": "code",
   "execution_count": 76,
   "metadata": {},
   "outputs": [
    {
     "data": {
      "text/plain": [
       "-1.602e-19"
      ]
     },
     "execution_count": 76,
     "metadata": {},
     "output_type": "execute_result"
    }
   ],
   "source": [
    "-1.602e-19  # carga elementar, em Coulomb"
   ]
  },
  {
   "cell_type": "code",
   "execution_count": 77,
   "metadata": {},
   "outputs": [
    {
     "data": {
      "text/plain": [
       "-96472.44"
      ]
     },
     "execution_count": 77,
     "metadata": {},
     "output_type": "execute_result"
    }
   ],
   "source": [
    "6.022e23 * -1.602e-19  # carga de um mol de elétrons, em Coulomb"
   ]
  },
  {
   "cell_type": "markdown",
   "metadata": {},
   "source": [
    "### Strings <a name=\"strings\"></a>\n",
    "\n",
    "Além de números, outro tipo de valor comum são sequências de caracteres, ou _strings_. \n",
    "\n",
    "Em _python_, estas são definidas delimitando a cadeia com aspas simples (`'`) ou duplas (`\"`).\n",
    "\n",
    "Abaixo, dois exemplos de _strings_."
   ]
  },
  {
   "cell_type": "code",
   "execution_count": 51,
   "metadata": {},
   "outputs": [
    {
     "data": {
      "text/plain": [
       "'Essa é uma string definida com aspas duplas (note que podemos usar espaços, acentos e pontuação!)'"
      ]
     },
     "execution_count": 51,
     "metadata": {},
     "output_type": "execute_result"
    }
   ],
   "source": [
    "\"Essa é uma string definida com aspas duplas (note que podemos usar espaços, acentos e pontuação!)\""
   ]
  },
  {
   "cell_type": "code",
   "execution_count": 52,
   "metadata": {},
   "outputs": [
    {
     "data": {
      "text/plain": [
       "'já essa, usa aspas simples'"
      ]
     },
     "execution_count": 52,
     "metadata": {},
     "output_type": "execute_result"
    }
   ],
   "source": [
    "'já essa, usa aspas simples'"
   ]
  },
  {
   "cell_type": "markdown",
   "metadata": {},
   "source": [
    "Os operadores `+` e `*` também funcionam com strings. Você consegue intuir qual seria sua função? \n",
    "\n",
    "Reflita um pouco antes de avaliar as células de código abaixo (<kbd>Shift</kbd>+<kbd>Enter</kbd>)."
   ]
  },
  {
   "cell_type": "code",
   "execution_count": null,
   "metadata": {},
   "outputs": [],
   "source": [
    "'qual será ' + 'o resultado' + '?'"
   ]
  },
  {
   "cell_type": "code",
   "execution_count": null,
   "metadata": {},
   "outputs": [],
   "source": [
    "4 * 'ai ' + '... tá chegando a hora'"
   ]
  },
  {
   "cell_type": "markdown",
   "metadata": {},
   "source": [
    "## Variáveis <a name=\"variaveis\"></a>\n",
    "\n",
    "Você pode armazenar o valor de uma expressão em uma _variável_, utilizando o operador `=`. \n",
    "\n",
    "Em qual das duas células abaixo é mais fácil entender o que está acontecendo?"
   ]
  },
  {
   "cell_type": "code",
   "execution_count": 59,
   "metadata": {},
   "outputs": [
    {
     "data": {
      "text/plain": [
       "50.2654816"
      ]
     },
     "execution_count": 59,
     "metadata": {},
     "output_type": "execute_result"
    }
   ],
   "source": [
    "# Fica difícil ver o que está sendo feito. \n",
    "# Parece apenas uma conta com números misteriosos\n",
    "3.1415926 * 4 ** 2"
   ]
  },
  {
   "cell_type": "code",
   "execution_count": 84,
   "metadata": {},
   "outputs": [
    {
     "data": {
      "text/plain": [
       "50.2654816"
      ]
     },
     "execution_count": 84,
     "metadata": {},
     "output_type": "execute_result"
    }
   ],
   "source": [
    "# e agora?\n",
    "pi = 3.1415926\n",
    "raio = 4\n",
    "area = pi * raio * raio\n",
    "area  #  o valor da variável `area` será impresso abaixo"
   ]
  },
  {
   "cell_type": "code",
   "execution_count": null,
   "metadata": {},
   "outputs": [],
   "source": [
    "# note que variáveis persistem no notebook, ou seja,\n",
    "# continuam disponíveis em todas as células\n",
    "area  # a mesma variável da célula acima"
   ]
  },
  {
   "cell_type": "markdown",
   "metadata": {},
   "source": [
    "## Funções e abstrações <a name=\"funcoes\"></a>\n",
    "    \n",
    "Da mesma forma que é extremamente útil atribuir nomes a valores (criando variáveis, conforme visto acima), é possível também nomear uma sequência de operações, criando uma _função_. Estes são aspectos da noção de *abstração*, um dos pontos centrais em programação. \n",
    "\n",
    "\n",
    "### Definindo funções\n",
    "Cada função tem um nome, pode receber *parâmetros de entrada*, e *retornar* um valor. Veja como isso funciona em _Python_ com um exemplo:"
   ]
  },
  {
   "cell_type": "code",
   "execution_count": 42,
   "metadata": {},
   "outputs": [],
   "source": [
    "# nome da função: area_do_circulo\n",
    "# parâmetro: o raio do círculo\n",
    "# retorna: a área do círculo com dado raio\n",
    "\n",
    "def area_do_circulo(raio):  # <--- note os `:` \n",
    "    pi = 3.1415926   # podemos definir variáveis dentro da função\n",
    "    area = pi * raio * raio  # `raio` é um parâmetro da função\n",
    "    return area  # a função retorna o valor da variável `area`"
   ]
  },
  {
   "cell_type": "markdown",
   "metadata": {},
   "source": [
    "#### Blocos <a name=\"blocos\"></a>\n",
    "\n",
    "**Importante**:\n",
    "note que o _corpo_ da função deve estar _indentado_ (precedido de espaços) sob o nome da função. _Python_ utiliza indentação para definir _blocos_ − no caso, o que está \"dentro\" e o que está \"fora\" da função. Na célula abaixo, veja que definimos uma variável chamada `ret` dentro da função `multiplica_por_dois`, e uma variável com o mesmo nome fora da função. **Sempre use o mesmo número de espaços (todas as linhas) para definir um bloco indentado**.\n",
    "\n",
    "Variáveis definidas *dentro* de uma função **não** são visíveis para o mundo externo. Esse é o caso da variável chamada `dois` na célula abaixo: ela só existe dentro do corpo da função `multiplica_por_dois`."
   ]
  },
  {
   "cell_type": "code",
   "execution_count": 67,
   "metadata": {},
   "outputs": [],
   "source": [
    "def multiplica_por_dois(numero):  # de uma maneira extremamente complicada\n",
    "    # <--- note os 4 espaços antes do texto, para as próximas 3 linhas\n",
    "    dois = 2  # essa definição está dentro da função. Fora, `dois` é indefinido!\n",
    "    ret = dois * numero  # essa definição está dentro da função \n",
    "    return ret  #  este `return` pertence à função \n",
    "\n",
    "ret = 'blabla'  # esta variável está \"fora\" da função, não há espaços.\n",
    "# neste ponto, o valor de `ret` é 'blabla', variável definida na linha acima\n",
    "# neste ponto, não existe variável chamada `dois` (fora da função)"
   ]
  },
  {
   "cell_type": "markdown",
   "metadata": {},
   "source": [
    "### Utilizando (\"chamando\") funções <a name=\"funcall\"/>\n",
    "Para usar (*chamar*) uma função já definida, utilizamos seu nome, e os valores para cada um dos argumentos vão entre parênteses após o nome. Utilizaremos a função `area_do_circulo`, definida 3 células acima:"
   ]
  },
  {
   "cell_type": "code",
   "execution_count": 116,
   "metadata": {},
   "outputs": [
    {
     "data": {
      "text/plain": [
       "50.2654816"
      ]
     },
     "execution_count": 116,
     "metadata": {},
     "output_type": "execute_result"
    }
   ],
   "source": [
    "# \"chamamos\" a função, que retorna a área de um círculo de raio 4\n",
    "area_do_circulo(4)  #  dentro da função, `raio` valerá 4"
   ]
  },
  {
   "cell_type": "code",
   "execution_count": 118,
   "metadata": {},
   "outputs": [
    {
     "data": {
      "text/plain": [
       "12.5663704"
      ]
     },
     "execution_count": 118,
     "metadata": {},
     "output_type": "execute_result"
    }
   ],
   "source": [
    "# note que a função é reutilizável em outras células\n",
    "area_do_circulo(2)   #  dentro da função, `raio` valerá 2"
   ]
  },
  {
   "cell_type": "markdown",
   "metadata": {},
   "source": [
    "Isso é reminiscente da notação típica para funções em matemática: para definir uma função chamada $f$, com um parâmetro $x$, que retorna duas vezes o valor de $x$, fazemos $f(x) = 2x$. \n",
    "Quando \"chamamos\" a função $f$, atribuímos um valor específico ao parâmetro $x$. Por exemplo, a \"chamada\" $f(2)$ retornará o valor $4$.\n",
    "\n",
    "Agora, ninguém mais precisa lembrar-se de que a área de um círculo de raio $r$ é $A(r)=\\pi r^2$ (e nem do valor de $\\pi$). Basta chamar `area_do_circulo(r)`, que funcionará para qualquer raio`r`. Vocês percebem o valor desta *abstração*? A partir deste ponto, passamos a dizer para o computador \"o quê\" queremos fazer (calcular a área do círculo), ao invés do \"como\" fazê-lo ($\\pi$ vezes raio ao quadrado). \n",
    "\n",
    "Se você não está convencido com este exemplo, considere a função abaixo, que calcula o volume de um cilindro dado o raio de sua base e sua altura:\n",
    "![cilindro](https://upload.wikimedia.org/wikipedia/commons/thumb/e/e1/Cylinder_geometry.svg/118px-Cylinder_geometry.svg.png)\n",
    "\n",
    "Considere quão fácil é entender, corrigir (caso haja \"bugs\") e reutilizar código escrito desta maneira."
   ]
  },
  {
   "cell_type": "code",
   "execution_count": 123,
   "metadata": {},
   "outputs": [
    {
     "data": {
      "text/plain": [
       "307.8760748"
      ]
     },
     "execution_count": 123,
     "metadata": {},
     "output_type": "execute_result"
    }
   ],
   "source": [
    "def volume_do_cilindro(raio, altura):\n",
    "    return altura * area_do_circulo(raio)\n",
    "\n",
    "volume_do_cilindro(3.5, 8)  "
   ]
  },
  {
   "cell_type": "markdown",
   "metadata": {},
   "source": [
    "### Funções predefinidas\n",
    "\n",
    "#### print\n",
    "_Python_ já vem com várias funções predefinidas, que podem ser chamadas diretamente. \n",
    "Talvez a mais famosa delas seja a função `print()`. Reflita sobre a célula de código abaixo, antes de executá-la com <kbd>Control</kbd>+<kbd>Enter</kbd>."
   ]
  },
  {
   "cell_type": "code",
   "execution_count": null,
   "metadata": {},
   "outputs": [],
   "source": [
    "print('será que isso aparece na tela?')\n",
    "\n",
    "nome = 'Fulano'\n",
    "print('Oi,', nome)\n",
    "\n",
    "print('dois mais dois são', 2 + 2)  "
   ]
  },
  {
   "cell_type": "markdown",
   "metadata": {},
   "source": [
    "Note que a função `print` nos permite mostrar o valor de qualquer passo intermediário da célula de código (até então, só tinhamos acesso ao último resultado, que é mostrado imediatamente após a célula).\n",
    "\n",
    "Perceba também que a função `print` pode receber um número arbitrário de argumentos:"
   ]
  },
  {
   "cell_type": "code",
   "execution_count": 74,
   "metadata": {},
   "outputs": [
    {
     "name": "stdout",
     "output_type": "stream",
     "text": [
      "um 2 três 4 ...\n"
     ]
    }
   ],
   "source": [
    "print('um', 2, 'três', 2 * 2, '...')"
   ]
  },
  {
   "cell_type": "markdown",
   "metadata": {},
   "source": [
    "#### help\n",
    "\n",
    "Outra função predefinida extremamente útil é a função `help`. Ela recebe um objeto (por exemplo, outra função) como argumento:"
   ]
  },
  {
   "cell_type": "code",
   "execution_count": 102,
   "metadata": {},
   "outputs": [
    {
     "name": "stdout",
     "output_type": "stream",
     "text": [
      "Help on built-in function print in module builtins:\n",
      "\n",
      "print(...)\n",
      "    print(value, ..., sep=' ', end='\\n', file=sys.stdout, flush=False)\n",
      "    \n",
      "    Prints the values to a stream, or to sys.stdout by default.\n",
      "    Optional keyword arguments:\n",
      "    file:  a file-like object (stream); defaults to the current sys.stdout.\n",
      "    sep:   string inserted between values, default a space.\n",
      "    end:   string appended after the last value, default a newline.\n",
      "    flush: whether to forcibly flush the stream.\n",
      "\n"
     ]
    }
   ],
   "source": [
    "help(print)"
   ]
  },
  {
   "cell_type": "code",
   "execution_count": 1,
   "metadata": {
    "slideshow": {
     "slide_type": "subslide"
    }
   },
   "outputs": [
    {
     "name": "stdout",
     "output_type": "stream",
     "text": [
      "Help on built-in function abs in module builtins:\n",
      "\n",
      "abs(x, /)\n",
      "    Return the absolute value of the argument.\n",
      "\n",
      "-------------------------------------------------\n",
      "Testando a função `abs`:\n",
      "abs(-1) é: 1\n",
      "abs(1) é: 1\n"
     ]
    }
   ],
   "source": [
    "# o que será que faz a função predefinida `abs`?\n",
    "help(abs)  # help imprime a documentação da função\n",
    "\n",
    "print('-------------------------------------------------')\n",
    "print('Testando a função `abs`:')\n",
    "print('abs(-1) é:', abs(-1))\n",
    "print('abs(1) é:', abs(1))"
   ]
  },
  {
   "cell_type": "markdown",
   "metadata": {
    "slideshow": {
     "slide_type": "subslide"
    }
   },
   "source": [
    "## Funcionalidade adicional em módulos <a name=\"import\">\n",
    "    \n",
    "Além destas funções predefinidas, _Python_ tem uma vasta [biblioteca padrão](https://docs.python.org/pt-br/3/library/), além de um [repositório](https://pypi.org/) com um enorme número de pacotes com as mais diversas funcionalidades (desde a [criação de videogames](https://pypi.org/project/pygame/) até [provas automáticas de teoremas](https://pypi.org/project/z3-solver/)).\n",
    "\n",
    "Para utilizar estas funcionalidades, que geralmente estão organizadas em \"módulos\" temáticos, utiliza-se a instrução `import`. Como exemplo, vamos importar um [módulo que contém funções matemáticas](https://docs.python.org/pt-br/3/library/math.html):\n"
   ]
  },
  {
   "cell_type": "code",
   "execution_count": 102,
   "metadata": {},
   "outputs": [
    {
     "name": "stdout",
     "output_type": "stream",
     "text": [
      "Não precisamos lembrar do valor de pi, ele é: 3.141592653589793\n",
      "Nem do cosseno de pi, que é -1.0\n"
     ]
    }
   ],
   "source": [
    "import math  # importamos o módulo `math`\n",
    "print('Não precisamos lembrar do valor de pi, ele é:', math.pi)\n",
    "print('Nem do cosseno de pi, que é', math.cos(math.pi))"
   ]
  },
  {
   "cell_type": "markdown",
   "metadata": {},
   "source": [
    "Após fazer `import math`, podemos acessar as variáveis e funções dentro deste módulo. Por exemplo, achamos o valor de $\\pi$ fazendo `math.pi`.\n",
    "\n",
    "Para economizar o teclado (não ter de ficar escrevendo `math.` toda vez) podemos trazer apenas as funções ou variáveis desejadas de um módulo utilizando a sintaxe `from X import Y`. Por exemplo:"
   ]
  },
  {
   "cell_type": "code",
   "execution_count": null,
   "metadata": {},
   "outputs": [],
   "source": [
    "from math import pi, sin, cos, sqrt\n",
    "\n",
    "# antes de executar esta célula, pense no resultado esperado!\n",
    "raiz_pi = sqrt(pi)  # sqrt é a raiz quadrada\n",
    "sin(raiz_pi)**2 + cos(raiz_pi)**2"
   ]
  },
  {
   "cell_type": "markdown",
   "metadata": {},
   "source": [
    "Se você não tinha nenhuma expectativa acerca do resultado acima, talvez seja uma boa rever [trigonometria](https://en.wikipedia.org/wiki/Pythagorean_trigonometric_identity).\n",
    "\n",
    "Agora, se você esperava ver `1`, bem vindo ao mundo mágico da aritmética em [ponto flutuante](https://floating-point-gui.de/)."
   ]
  },
  {
   "cell_type": "markdown",
   "metadata": {},
   "source": [
    "## Listas <a name=\"listas\"></a>\n",
    "\n",
    "### Criando listas\n",
    "     \n",
    "Em computação científica, é extremamente comum trabalharmos com múltiplos valores de uma determinada grandeza. Por exemplo, considere um experimento que mede a altura de diversas pessoas numa população. Ou uma simulação da variação da temperatura atmosférica com o tempo. Em ambos os casos, convém armazenar todos os valores medidos / calculados em uma lista. _Python_ possui uma estrutura de dados com exatamente este nome, que pode ser criada utilizando colchetes (`[]`):"
   ]
  },
  {
   "cell_type": "code",
   "execution_count": 108,
   "metadata": {},
   "outputs": [
    {
     "data": {
      "text/plain": [
       "[3, 1, 2]"
      ]
     },
     "execution_count": 108,
     "metadata": {},
     "output_type": "execute_result"
    }
   ],
   "source": [
    "# criamos uma lista com três valores\n",
    "[3, 1, 2]"
   ]
  },
  {
   "cell_type": "markdown",
   "metadata": {},
   "source": [
    "### Indexando listas (e strings)\n",
    "\n",
    "Como as listas têm uma ordem inerente, podemos acessar cada elemento com um índice correspondente à sua posição. _Python_ começa contando de `0`, de modo que o índice do primeiro numa lista com $n$ elementos é $0$, e o do último é $n-1$.\n",
    "\n",
    "Pense no resultado antes de executar cada uma das células de código abaixo:"
   ]
  },
  {
   "cell_type": "code",
   "execution_count": null,
   "metadata": {},
   "outputs": [],
   "source": [
    "lista = [5, 4, 3, 2, 1]\n",
    "lista[0]  # o que deve sair aqui?"
   ]
  },
  {
   "cell_type": "code",
   "execution_count": null,
   "metadata": {},
   "outputs": [],
   "source": [
    "lista[1]  # o que deve sair aqui?"
   ]
  },
  {
   "cell_type": "code",
   "execution_count": null,
   "metadata": {},
   "outputs": [],
   "source": [
    "lista[4]  # o que deve sair aqui?"
   ]
  },
  {
   "cell_type": "code",
   "execution_count": null,
   "metadata": {},
   "outputs": [],
   "source": [
    "lista[-1]  # este é o mais 'mágico'!  "
   ]
  },
  {
   "cell_type": "markdown",
   "metadata": {},
   "source": [
    "### Exceções e erros\n",
    "\n",
    "Agora é uma boa hora para discutir o conceito de exceções (_Exceptions_) em _Python_. Você vai se deparar muito com este tipo de situação ao programar, e é importante acostumar-se. Para entender o que está acontecendo por trás de uma exceção, a coisa mais importante é tentar ler com calma **a última** parte da mensagem de erro na tela.\n",
    "\n",
    "Vamos provocar uma exceção de propósito (veja, antes de avaliar a célula abaixo, se você entende qual é o problema com o código)."
   ]
  },
  {
   "cell_type": "code",
   "execution_count": null,
   "metadata": {},
   "outputs": [],
   "source": [
    "lista = [5, 4, 3]\n",
    "lista[3]  # pense, e depois avalie com Control-Enter\n"
   ]
  },
  {
   "cell_type": "markdown",
   "metadata": {},
   "source": [
    "Se você avaliou a célula acima, deve estar vendo uma mensagem de erro, que a primeira vista pode ser assustadora.\n",
    "\n",
    "Olhe porém a última mensagem de erro: `IndexError: list index out of range`. Que é exatamente o que fizemos, de propósito: tentamos acessar o quarto elemento (índice 3, já que começamos por 0) em uma lista que só tem três. Note inclusive que é colocada uma seta `---->` na linha de código em que ocorreu o erro.\n",
    "\n",
    "Erros e exceções podem ocorrer em muitos outros contextos em _Python_ (assim como na vida). \n",
    "\n",
    "> Relembrando: **Sempre** comece a ler uma mensagem de erro pelas últimas linhas.\n",
    "\n",
    "Vamos forçar outro tipo de erro na célula abaixo. Tente entender qual é o problema (e como consertá-lo) a partir da mensagem."
   ]
  },
  {
   "cell_type": "code",
   "execution_count": 1,
   "metadata": {},
   "outputs": [
    {
     "ename": "TypeError",
     "evalue": "'list' object is not callable",
     "output_type": "error",
     "traceback": [
      "\u001b[0;31m---------------------------------------------------------------------------\u001b[0m",
      "\u001b[0;31mTypeError\u001b[0m                                 Traceback (most recent call last)",
      "\u001b[0;32m<ipython-input-1-be8bfd32ea73>\u001b[0m in \u001b[0;36m<module>\u001b[0;34m()\u001b[0m\n\u001b[1;32m      1\u001b[0m \u001b[0mlista\u001b[0m \u001b[0;34m=\u001b[0m \u001b[0;34m[\u001b[0m\u001b[0;36m1\u001b[0m\u001b[0;34m,\u001b[0m \u001b[0;36m2\u001b[0m\u001b[0;34m,\u001b[0m \u001b[0;36m3\u001b[0m\u001b[0;34m]\u001b[0m\u001b[0;34m\u001b[0m\u001b[0;34m\u001b[0m\u001b[0m\n\u001b[0;32m----> 2\u001b[0;31m \u001b[0mlista\u001b[0m\u001b[0;34m(\u001b[0m\u001b[0;36m0\u001b[0m\u001b[0;34m)\u001b[0m  \u001b[0;31m# erro!\u001b[0m\u001b[0;34m\u001b[0m\u001b[0;34m\u001b[0m\u001b[0m\n\u001b[0m",
      "\u001b[0;31mTypeError\u001b[0m: 'list' object is not callable"
     ]
    }
   ],
   "source": [
    "lista = [1, 2, 3]\n",
    "lista(0)  # erro!"
   ]
  },
  {
   "cell_type": "markdown",
   "metadata": {},
   "source": [
    "O erro acima se deve ao fato de parênteses `()` serem usado, em _Python_, para [\"chamar\" funções](#funcall). Como a variável `lista` não corresponde uma função (mas sim a uma lista...), não pode ser \"chamada\" com `()`.\n",
    "\n",
    "Algo parecido ocorre se tentarmos indexar (com colchetes `[]`) uma variável que não for indexável:"
   ]
  },
  {
   "cell_type": "code",
   "execution_count": 2,
   "metadata": {},
   "outputs": [
    {
     "ename": "TypeError",
     "evalue": "'int' object is not subscriptable",
     "output_type": "error",
     "traceback": [
      "\u001b[0;31m---------------------------------------------------------------------------\u001b[0m",
      "\u001b[0;31mTypeError\u001b[0m                                 Traceback (most recent call last)",
      "\u001b[0;32m<ipython-input-2-24e5008d812d>\u001b[0m in \u001b[0;36m<module>\u001b[0;34m()\u001b[0m\n\u001b[1;32m      1\u001b[0m \u001b[0mx\u001b[0m \u001b[0;34m=\u001b[0m \u001b[0;36m42\u001b[0m  \u001b[0;31m# `x` e um número inteirom *não* é uma lista!\u001b[0m\u001b[0;34m\u001b[0m\u001b[0;34m\u001b[0m\u001b[0m\n\u001b[0;32m----> 2\u001b[0;31m \u001b[0mx\u001b[0m\u001b[0;34m[\u001b[0m\u001b[0;36m0\u001b[0m\u001b[0;34m]\u001b[0m  \u001b[0;31m# o que será que aontence aqui?\u001b[0m\u001b[0;34m\u001b[0m\u001b[0;34m\u001b[0m\u001b[0m\n\u001b[0m",
      "\u001b[0;31mTypeError\u001b[0m: 'int' object is not subscriptable"
     ]
    }
   ],
   "source": [
    "x = 42  # `x` e um número inteirom *não* é uma lista!\n",
    "x[0]  # o que será que aontence aqui?"
   ]
  },
  {
   "cell_type": "code",
   "execution_count": 131,
   "metadata": {},
   "outputs": [
    {
     "ename": "TypeError",
     "evalue": "'builtin_function_or_method' object is not subscriptable",
     "output_type": "error",
     "traceback": [
      "\u001b[0;31m---------------------------------------------------------------------------\u001b[0m",
      "\u001b[0;31mTypeError\u001b[0m                                 Traceback (most recent call last)",
      "\u001b[0;32m<ipython-input-131-45e785e50608>\u001b[0m in \u001b[0;36m<module>\u001b[0;34m()\u001b[0m\n\u001b[0;32m----> 1\u001b[0;31m \u001b[0mprint\u001b[0m\u001b[0;34m[\u001b[0m\u001b[0;36m2\u001b[0m\u001b[0;34m]\u001b[0m  \u001b[0;31m# print é uma função, não uma lista!\u001b[0m\u001b[0;34m\u001b[0m\u001b[0;34m\u001b[0m\u001b[0m\n\u001b[0m",
      "\u001b[0;31mTypeError\u001b[0m: 'builtin_function_or_method' object is not subscriptable"
     ]
    }
   ],
   "source": [
    "print[2]  # print é uma função, não uma lista!"
   ]
  },
  {
   "cell_type": "markdown",
   "metadata": {},
   "source": [
    "### Indexando strings\n",
    "\n",
    "Além de listas, há outros objetos em _Python_ que também comportam a ideia de acesso via índices. Considere por exemplo uma [string](#strings): ela não é nada mais que uma sequência ordenada de caracteres \n",
    "\n",
    "Vamos experimentar com essa ideia em _Python_. Como sempre, tente antever o resultado antes de avaliar as células abaixo:"
   ]
  },
  {
   "cell_type": "code",
   "execution_count": null,
   "metadata": {},
   "outputs": [],
   "source": [
    "texto = 'olha que coisa mais linda'\n",
    "texto[0]  # o que deve ser retornado?"
   ]
  },
  {
   "cell_type": "code",
   "execution_count": null,
   "metadata": {},
   "outputs": [],
   "source": [
    "texto[4]  # o que deve ser retornado?"
   ]
  },
  {
   "cell_type": "code",
   "execution_count": null,
   "metadata": {},
   "outputs": [],
   "source": [
    "texto[-1] # o que deve ser retornado?"
   ]
  },
  {
   "cell_type": "markdown",
   "metadata": {},
   "source": [
    "### Tamanho de uma lista ou string\n",
    "A função predefinida `len(x)` retorna o número de elementos no objeto `x`. \n"
   ]
  },
  {
   "cell_type": "code",
   "execution_count": 171,
   "metadata": {},
   "outputs": [
    {
     "data": {
      "text/plain": [
       "4"
      ]
     },
     "execution_count": 171,
     "metadata": {},
     "output_type": "execute_result"
    }
   ],
   "source": [
    "len([4, 3, 2, 1])"
   ]
  },
  {
   "cell_type": "code",
   "execution_count": 168,
   "metadata": {},
   "outputs": [
    {
     "data": {
      "text/plain": [
       "3"
      ]
     },
     "execution_count": 168,
     "metadata": {},
     "output_type": "execute_result"
    }
   ],
   "source": [
    " len('abc')"
   ]
  },
  {
   "cell_type": "markdown",
   "metadata": {},
   "source": [
    "### Métodos em listas <a name=\"metodos_listas\"></a>\n",
    "\n",
    "Métodos são como funções que pertencem a determinado objeto (como uma lista). Diferentemente de funções predefinidas ou [pertecentes a algum módulo](#import), estas funções são \"chamadas\" a partir de um objeto preexistente, utilzando a sintaxe `objeto.método()`.\n"
   ]
  },
  {
   "cell_type": "markdown",
   "metadata": {},
   "source": [
    "#### Adicionando elementos a uma lista\n",
    "\n",
    "Para adicionar um elemento ao final de uma lista (aumentando seu tamanho em 1), utilizamos um método chamdo `append`. \n",
    "\n",
    "Isto é feito da seguinte forma:"
   ]
  },
  {
   "cell_type": "code",
   "execution_count": 57,
   "metadata": {},
   "outputs": [
    {
     "data": {
      "text/plain": [
       "[1, 2, 3, 4]"
      ]
     },
     "execution_count": 57,
     "metadata": {},
     "output_type": "execute_result"
    }
   ],
   "source": [
    "lista = [1, 2, 3]\n",
    "lista.append(4)\n",
    "lista"
   ]
  },
  {
   "cell_type": "markdown",
   "metadata": {},
   "source": [
    "#### Ordeanando uma lista\n",
    "O método `sort` ordena uma lista:"
   ]
  },
  {
   "cell_type": "code",
   "execution_count": 62,
   "metadata": {},
   "outputs": [
    {
     "name": "stdout",
     "output_type": "stream",
     "text": [
      "[1, 2, 3, 4]\n",
      "['arara', 'bode', 'cão', 'zebra']\n"
     ]
    }
   ],
   "source": [
    "lista1 = [3, 4, 1, 2]\n",
    "lista1.sort()\n",
    "print(lista1)\n",
    "\n",
    "lista2 = ['zebra', 'cão', 'arara', 'bode']  # será que funciona?\n",
    "lista2.sort()\n",
    "print(lista2)\n"
   ]
  },
  {
   "cell_type": "markdown",
   "metadata": {},
   "source": [
    "### Fatiando listas\n",
    "\n",
    "Também é possível extrair um subconjunto de elementos de uma lista (o qualquer objeto indexável, como acabamos de ver para _strings_ acima) utilizando a sintaxe de \"fatia\" (_slice_).\n",
    "\n",
    "Para fatiar um indexável, utilize o índice do elemento inicial (que é incluído na fatia) e o do final (não inclusivo: é o índice do primeiro elemento que **não está** na fatia), separados por `:`, como em `lista[início:fim]`. Deixar o primeiro índice em branco (`lista[:fim]`) significa começar pelo primeiro elemento; deixar o último em branco (`lista[início:]`) significa ir até o final da lista.\n",
    "\n",
    "Em outras palavras, dada uma lista `l` e os números `início` e `fim`: \n",
    "\n",
    "- `l[início:fim]` : ítens de `início` até `fim-1`\n",
    "- `l[início:]`    : ítens de `início` até o final da lista\n",
    "- `l[:fim]`       : ítens do começo da lista até `fim-1` \n",
    "- `l[:]`          : cópia da lista inteira\n",
    "\n",
    "Um efeito conveniente desta notação é que o número de elementos na fatia é dado por `fim-início`.\n",
    "\n",
    "Podemos também \"pular\" elementos, ou tomar \"a cada\" n elementos colocando segundo um `:` seguido do \"passo\":\n",
    "- `l[início:fim:passo]` : ítens de `início` até não além de `fim`, a cada `passo` elementos.\n",
    "\n",
    "\n",
    "\n",
    "É mais fácil entender tudo isso experimentando diretamente com código:"
   ]
  },
  {
   "cell_type": "code",
   "execution_count": 137,
   "metadata": {},
   "outputs": [
    {
     "data": {
      "text/plain": [
       "[5]"
      ]
     },
     "execution_count": 137,
     "metadata": {},
     "output_type": "execute_result"
    }
   ],
   "source": [
    "numeros = [5, 4, 3, 2, 1]\n",
    "# indices |0  1  2  3  4|\n",
    "\n",
    "numeros[0:1]  # apenas o primeiro elemento"
   ]
  },
  {
   "cell_type": "code",
   "execution_count": 146,
   "metadata": {},
   "outputs": [
    {
     "data": {
      "text/plain": [
       "[5]"
      ]
     },
     "execution_count": 146,
     "metadata": {},
     "output_type": "execute_result"
    }
   ],
   "source": [
    "numeros[:1]  # o mesmo que acima"
   ]
  },
  {
   "cell_type": "code",
   "execution_count": 147,
   "metadata": {},
   "outputs": [
    {
     "data": {
      "text/plain": [
       "[5, 4]"
      ]
     },
     "execution_count": 147,
     "metadata": {},
     "output_type": "execute_result"
    }
   ],
   "source": [
    "numeros[0:2]  # primeiro e segundo elementos"
   ]
  },
  {
   "cell_type": "code",
   "execution_count": 161,
   "metadata": {},
   "outputs": [
    {
     "data": {
      "text/plain": [
       "[4, 3]"
      ]
     },
     "execution_count": 161,
     "metadata": {},
     "output_type": "execute_result"
    }
   ],
   "source": [
    "numeros[1:3]  # segundo e terceiro elementos"
   ]
  },
  {
   "cell_type": "code",
   "execution_count": 151,
   "metadata": {},
   "outputs": [
    {
     "data": {
      "text/plain": [
       "[2, 1]"
      ]
     },
     "execution_count": 151,
     "metadata": {},
     "output_type": "execute_result"
    }
   ],
   "source": [
    "numeros[3:5]  # penúltimo até último elemento "
   ]
  },
  {
   "cell_type": "code",
   "execution_count": 152,
   "metadata": {},
   "outputs": [
    {
     "data": {
      "text/plain": [
       "[2, 1]"
      ]
     },
     "execution_count": 152,
     "metadata": {},
     "output_type": "execute_result"
    }
   ],
   "source": [
    "numeros[3:]  # o mesmo que acima"
   ]
  },
  {
   "cell_type": "code",
   "execution_count": 153,
   "metadata": {},
   "outputs": [
    {
     "data": {
      "text/plain": [
       "[2, 1]"
      ]
     },
     "execution_count": 153,
     "metadata": {},
     "output_type": "execute_result"
    }
   ],
   "source": [
    "numeros[-2:]  # o mesmo que acima"
   ]
  },
  {
   "cell_type": "code",
   "execution_count": 156,
   "metadata": {},
   "outputs": [
    {
     "data": {
      "text/plain": [
       "[5, 3, 1]"
      ]
     },
     "execution_count": 156,
     "metadata": {},
     "output_type": "execute_result"
    }
   ],
   "source": [
    "numeros[0:5:2]  # do começo ao fim, a cada 2"
   ]
  },
  {
   "cell_type": "code",
   "execution_count": 157,
   "metadata": {},
   "outputs": [
    {
     "data": {
      "text/plain": [
       "[5, 3, 1]"
      ]
     },
     "execution_count": 157,
     "metadata": {},
     "output_type": "execute_result"
    }
   ],
   "source": [
    "numeros[::2]  # o mesmo que acima"
   ]
  },
  {
   "cell_type": "code",
   "execution_count": 154,
   "metadata": {},
   "outputs": [
    {
     "data": {
      "text/plain": [
       "'olha'"
      ]
     },
     "execution_count": 154,
     "metadata": {},
     "output_type": "execute_result"
    }
   ],
   "source": [
    "# com strings, a lógica é idêntica\n",
    "texto = 'olha que coisa mais linda'\n",
    "texto[:4]"
   ]
  },
  {
   "cell_type": "code",
   "execution_count": 158,
   "metadata": {},
   "outputs": [
    {
     "data": {
      "text/plain": [
       "'linda'"
      ]
     },
     "execution_count": 158,
     "metadata": {},
     "output_type": "execute_result"
    }
   ],
   "source": [
    "texto[-5:]"
   ]
  },
  {
   "cell_type": "code",
   "execution_count": 160,
   "metadata": {},
   "outputs": [
    {
     "data": {
      "text/plain": [
       "'adnil siam asioc euq ahlo'"
      ]
     },
     "execution_count": 160,
     "metadata": {},
     "output_type": "execute_result"
    }
   ],
   "source": [
    "texto[::-1]  # desafio: o que faz isso?"
   ]
  },
  {
   "cell_type": "markdown",
   "metadata": {},
   "source": [
    "## Dicionários <a name=\"dicionarios\"></a>\n",
    "\n",
    "Há situações onde é mais natural ter algo parecido com uma [lista](#listas), mas que seja indexado por algo diferente de sua posição na sequência (tipo `lista[2]`). Um bom exemplo é algo como uma lista de contatos, que mapeia o nome de cada pessoa a seu telefone ou endereço. \n",
    "\n",
    "Este tipo de estrutura chama-se _dicionário_  em _Python_. Vamos ver como eles funcionam e podem ser criados com um exemplo:"
   ]
  },
  {
   "cell_type": "code",
   "execution_count": 23,
   "metadata": {},
   "outputs": [
    {
     "data": {
      "text/plain": [
       "12345678"
      ]
     },
     "execution_count": 23,
     "metadata": {},
     "output_type": "execute_result"
    }
   ],
   "source": [
    "telefones = {'Alice': 12345678, 'Beto': 21436587, 'Carol': 31425364}\n",
    "telefones['Alice']"
   ]
  },
  {
   "cell_type": "markdown",
   "metadata": {},
   "source": [
    "Note que dicionários são criados usando chaves `{}`, e cada item é um par `chave : valor`. Indexamos então um dicionário usando colchetes `[]` e alguma chava (ao invés de índeces inteiros, como em listas).\n",
    "\n",
    "Podemos inserir novos valore no dicionário após sua criação, atribuindo um valor a uma chave inexistente:"
   ]
  },
  {
   "cell_type": "code",
   "execution_count": 25,
   "metadata": {},
   "outputs": [
    {
     "data": {
      "text/plain": [
       "{'Alice': 12345678, 'Beto': 21436587, 'Carol': 31425364, 'Daniel': 41526374}"
      ]
     },
     "execution_count": 25,
     "metadata": {},
     "output_type": "execute_result"
    }
   ],
   "source": [
    "telefones['Daniel'] = 41526374\n",
    "telefones"
   ]
  },
  {
   "cell_type": "markdown",
   "metadata": {},
   "source": [
    "Não é necessário usar strings como chaves, outros tipos também são válidos:"
   ]
  },
  {
   "cell_type": "code",
   "execution_count": 28,
   "metadata": {},
   "outputs": [
    {
     "name": "stdout",
     "output_type": "stream",
     "text": [
      "dois\n",
      "quarenta e dois\n"
     ]
    }
   ],
   "source": [
    "numeros = {1: 'um', 2: 'dois', 3:'três', }  # isso parece uma lista...\n",
    "print(numeros[2])\n",
    "\n",
    "numeros[42] = 'quarenta e dois'  # mais difícil se fosse uma lista!\n",
    "print(numeros[42])\n"
   ]
  },
  {
   "cell_type": "markdown",
   "metadata": {},
   "source": [
    "## Condições e Comparações <a name=\"logica\"></a>\n",
    "    \n",
    "Grande parte dos problemas que resolvemos usando computadores envolve tomar decisões baseadas em lógica do tipo \"se isto, então aquilo\". Este tipo de operação baseia-se em variáveis _booleanas_ (representando as noções de \"verdadeiro\"/\"falso\") e operadores lógicos (por exemplo, comparações como \"é igual?\", \"é maior que?\", conjunções lógicas do tipo \"isto **e/ou** aquilo\").\n",
    "\n",
    "\n",
    "### Valores Booleanos e operadores lógicos\n",
    "\n",
    "Em _Python_, há dois valores lógicos \"puros\": `True` e `False`. O resultados de operações lógicas, como comparações entre valores, é sempre um valor lógico. \n",
    "\n",
    "Vejamos exemplos abaixo:"
   ]
  },
  {
   "cell_type": "code",
   "execution_count": 15,
   "metadata": {},
   "outputs": [
    {
     "data": {
      "text/plain": [
       "True"
      ]
     },
     "execution_count": 15,
     "metadata": {},
     "output_type": "execute_result"
    }
   ],
   "source": [
    "2 > 1  # dois é maior que um?"
   ]
  },
  {
   "cell_type": "code",
   "execution_count": 18,
   "metadata": {},
   "outputs": [
    {
     "data": {
      "text/plain": [
       "False"
      ]
     },
     "execution_count": 18,
     "metadata": {},
     "output_type": "execute_result"
    }
   ],
   "source": [
    "2 < 1 # dois é menor que um?"
   ]
  },
  {
   "cell_type": "code",
   "execution_count": 26,
   "metadata": {},
   "outputs": [
    {
     "data": {
      "text/plain": [
       "False"
      ]
     },
     "execution_count": 26,
     "metadata": {},
     "output_type": "execute_result"
    }
   ],
   "source": [
    "2 == 1 # dois é igual a um?"
   ]
  },
  {
   "cell_type": "code",
   "execution_count": 17,
   "metadata": {},
   "outputs": [
    {
     "data": {
      "text/plain": [
       "True"
      ]
     },
     "execution_count": 17,
     "metadata": {},
     "output_type": "execute_result"
    }
   ],
   "source": [
    "# cuidado com o este erro comum:\n",
    "a = 3  # um só `=` define a variável `a`\n",
    "2 * a == 6  # `==` serve para testar igualdade"
   ]
  },
  {
   "cell_type": "code",
   "execution_count": 25,
   "metadata": {},
   "outputs": [
    {
     "data": {
      "text/plain": [
       "True"
      ]
     },
     "execution_count": 25,
     "metadata": {},
     "output_type": "execute_result"
    }
   ],
   "source": [
    "2 <= 2  # menor ou igual"
   ]
  },
  {
   "cell_type": "code",
   "execution_count": 20,
   "metadata": {},
   "outputs": [
    {
     "data": {
      "text/plain": [
       "True"
      ]
     },
     "execution_count": 20,
     "metadata": {},
     "output_type": "execute_result"
    }
   ],
   "source": [
    "2 != 1  # != testa a diferença"
   ]
  },
  {
   "cell_type": "code",
   "execution_count": 22,
   "metadata": {},
   "outputs": [
    {
     "data": {
      "text/plain": [
       "True"
      ]
     },
     "execution_count": 22,
     "metadata": {},
     "output_type": "execute_result"
    }
   ],
   "source": [
    "'abc' == 'abc'  # também funciona para strings!"
   ]
  },
  {
   "cell_type": "code",
   "execution_count": 33,
   "metadata": {},
   "outputs": [
    {
     "name": "stdout",
     "output_type": "stream",
     "text": [
      "dois maior que um E três maior que dois: True\n",
      "dois maior que um E três menor que dois: False\n",
      "dois maior que um OU três menor que dois: True\n"
     ]
    }
   ],
   "source": [
    "# podemos também usar conectores lógicos tipo 'e', 'ou'\n",
    "print('dois maior que um E três maior que dois:', 2 > 1 and 3 > 2)\n",
    "print('dois maior que um E três menor que dois:', 2 > 1 and 3 < 2)\n",
    "print('dois maior que um OU três menor que dois:', 2 > 1 or 3 < 2)\n"
   ]
  },
  {
   "cell_type": "code",
   "execution_count": 39,
   "metadata": {},
   "outputs": [
    {
     "name": "stdout",
     "output_type": "stream",
     "text": [
      "não chovendo: False\n"
     ]
    }
   ],
   "source": [
    "# para negar um valor lógico, utilizamos `not`:\n",
    "chovendo = True\n",
    "print(\"não chovendo:\",  not chovendo)"
   ]
  },
  {
   "cell_type": "markdown",
   "metadata": {},
   "source": [
    "### O comando `if`\n",
    "Para checar uma condição, utlizamos o comando `if`. A condição é avaliada como um valor lógico (vide acima). Caso seja verdadeiro, o [bloco](#blocos) de instruções correspondente é executado. Caso contrário, ele é ignorado.\n",
    "\n",
    "Antes de avaliar a célula abaixo, tente antecipar quais mensagens (blocos associados aos `if`) serão impressas na tela:"
   ]
  },
  {
   "cell_type": "code",
   "execution_count": 49,
   "metadata": {},
   "outputs": [
    {
     "name": "stdout",
     "output_type": "stream",
     "text": [
      "vou de bicicleta!\n"
     ]
    }
   ],
   "source": [
    "chovendo = False\n",
    "\n",
    "if not chovendo:\n",
    "    print('vou de bicicleta!')"
   ]
  },
  {
   "cell_type": "code",
   "execution_count": 51,
   "metadata": {},
   "outputs": [
    {
     "name": "stdout",
     "output_type": "stream",
     "text": [
      "pensando bem, vou de ônibus\n"
     ]
    }
   ],
   "source": [
    "preguiça = True\n",
    "\n",
    "if preguiça or chovendo:  # `chovendo` definida na célula acima!\n",
    "    print('pensando bem, vou de ônibus')"
   ]
  },
  {
   "cell_type": "code",
   "execution_count": 55,
   "metadata": {},
   "outputs": [],
   "source": [
    "bilhete_carregado = True\n",
    "\n",
    "if not bilhete_carregado:\n",
    "    print('acho que, no final, ficarei em casa!')"
   ]
  },
  {
   "cell_type": "markdown",
   "metadata": {},
   "source": [
    "Para executar um bloco caso a condição do `if` seja falsa (lógica tipo \"se A então B, caso contrário C\"), utilize `else`. Você pode aninhar quantos if/else quiser, para criar lógicas mais sofisticadas. Preste atenção na identação dos blocos de código!"
   ]
  },
  {
   "cell_type": "code",
   "execution_count": null,
   "metadata": {},
   "outputs": [],
   "source": [
    "chovendo = False\n",
    "preguiça = True\n",
    "bilhete_carregado = False\n",
    "\n",
    "if not chovendo and not preguiça:\n",
    "    print('bicicleta!')  # isso pertence ao if acima\n",
    "else:  # corresponde ao `if` da 1a linha\n",
    "    if bilhete_carregado:\n",
    "        print('ônibus')  # pertence ao if acima\n",
    "    else:  # corresponde ao `if` da 4a. linha\n",
    "        print('acho que ficarei em casa!')  # pretence ao `else` acima"
   ]
  },
  {
   "cell_type": "markdown",
   "metadata": {},
   "source": [
    "#### Exercício\n",
    "\n",
    "Vamos considerar o seguinte problema prático: \n",
    "\n",
    "> Ao abastecer o carro num posto, como determinar se vale a pena encher o tanque do carro com álcool ou gasolina, dado o preço por litro de cada um dos combustíveis?\n",
    "(considerando apenas o fator financeiro, deixando de lado considerações importantíssimas sobre fontes renováveis de energia). \n",
    "\n",
    "Dadas as características químicas dos dois combustíveis, motores _flex_ consomem em média 30% quando abastecidos com etanol (perguntem aos seus amigxs químicxs por quê). Desta forma, se o litro de gasolia custa um real (ha ha), vale a pena encher com etanol se o litro deste custar 70 centavos ou menos."
   ]
  },
  {
   "cell_type": "code",
   "execution_count": 71,
   "metadata": {},
   "outputs": [],
   "source": [
    "# Exercício:\n",
    "# Crie uma função que determina se vale mais a pena encher o tanque com álcool ou gasolina.\n",
    "# A função terá dois parâmetros (os valores por litro de cada combustível).\n",
    "# O valor de retorno é uma string com o nome do combustível escolhido.\n",
    "\n",
    "def qual_combustivel(litro_gas, litro_alc):\n",
    "    \n",
    "    ##################################################################\n",
    "    #  coloque aqui a lógica que decide o combustível.               #\n",
    "    #  a variável `qual` deve valer 'álcool' ou 'gasolina' ao final  #\n",
    "    ##################################################################\n",
    "    \n",
    "    return qual"
   ]
  },
  {
   "cell_type": "markdown",
   "metadata": {},
   "source": [
    "Depois que sua função estiver pronta, vamos testá-la nas duas células abaixo:"
   ]
  },
  {
   "cell_type": "code",
   "execution_count": null,
   "metadata": {},
   "outputs": [],
   "source": [
    "# teste de sanidade\n",
    "qual_combustivel(1, 10)  # com gasolina mais barata que álcool, tem que retornar 'gasolina'!!! "
   ]
  },
  {
   "cell_type": "code",
   "execution_count": null,
   "metadata": {},
   "outputs": [],
   "source": [
    "# teste mais realista\n",
    "qual_combustivel(1, 0.71)  # tem que retornar 'gasolina' (quase tanto faz)"
   ]
  },
  {
   "cell_type": "code",
   "execution_count": null,
   "metadata": {},
   "outputs": [],
   "source": [
    "# testando a funçaão com valor do posto na Avenida dos Estados, em Julho/2020\n",
    "litro_gasolina = 3.97 \n",
    "litro_alcool = 2.55 \n",
    "qual_combustivel(litro_gasolina, litro_alcool)  # deve retornar 'álcool'!"
   ]
  },
  {
   "cell_type": "markdown",
   "metadata": {},
   "source": [
    "## Repetindo <a name=\"for\"></a>\n",
    "\n",
    "Uma das coisas mais úteis que podemos fazer com computadores é automatizar tarefas repetitivas. Cada vez que temos de seguir os mesmos passos (mesmo com pequenas diferenças) um grande número de vezes, é possível escrever um passo único e utilizar uma instrução que o repita dado número de vezes (ou até que determinada [condição lógica](#logica) seja satisfeita.\n",
    "\n",
    "### Exemplo: Tabuada\n",
    "\n",
    "Suponha por exemplo que queremos imprimir a tabuada do 7 na tela para ajudar uma criança a aprendê-la. \n",
    "Podemos fazer isso manualmente, com `print(7, 14, 21 ... 63, 70)`. Mas isso é tedioso (além de exigir que lembremos nós mesmos dos valores). \n",
    "\n",
    "A instrução `for` em _Python_ permite iterar sobre os elementos de uma sequência (por exemplo, uma lista). Se tivermos uma lista indo de 1 a 9, e multiplicarmos cada elemento por 7, teremos nossa tabuada. \n",
    "\n",
    "Veja abaixo como definir um `for`:"
   ]
  },
  {
   "cell_type": "code",
   "execution_count": 17,
   "metadata": {},
   "outputs": [
    {
     "name": "stdout",
     "output_type": "stream",
     "text": [
      "7\n",
      "14\n",
      "21\n",
      "28\n",
      "35\n",
      "42\n",
      "49\n",
      "56\n",
      "63\n",
      "70\n"
     ]
    }
   ],
   "source": [
    "# criamos uma lista com números de 1 a 10\n",
    "numeros = [1, 2, 3, 4, 5, 6, 7, 8, 9, 10]\n",
    "\n",
    "for num in numeros:  # `num` valerá cada um dos elementos da lista `numeros`\n",
    "    # o nome da variável não precisa ser `num`, é arbitrário!\n",
    "    print(7 * num)"
   ]
  },
  {
   "cell_type": "markdown",
   "metadata": {},
   "source": [
    "parece melhor que escrever a mão, mas ainda assim é tedioso (note que tivemos que escrever a lista com os números de 1 a 10). Lidar com sequências numéricas é tão comum que _Python_ tem uma função predefinida chamada _range_ que faz precisamente isso: <a name=\"range\"></a>"
   ]
  },
  {
   "cell_type": "code",
   "execution_count": 22,
   "metadata": {},
   "outputs": [
    {
     "name": "stdout",
     "output_type": "stream",
     "text": [
      "7\n",
      "14\n",
      "21\n",
      "28\n",
      "35\n",
      "42\n",
      "49\n",
      "56\n",
      "63\n",
      "70\n"
     ]
    }
   ],
   "source": [
    "for num in range(1, 11):  # num irá de 1 a 10\n",
    "    print(7 * num)"
   ]
  },
  {
   "cell_type": "markdown",
   "metadata": {},
   "source": [
    "Finalmente, temos uma tabuada do 7 feita de maneira bem econômica. \n",
    "\n",
    "Lembrando da ideia de [abstração](#funcoes), podemos colocar dar um nome a esta lógica para podermos reutilizá-la de forma declarativa. Mas antes, notemos que não há nada de especial com a tabuada do 7: a lógica é idêntica para quaisquer outras bases. \n",
    "\n",
    "<!--\n",
    "Antes de escrevermos uma função que imprime qualquer tabuada, introduziremos uma maneira mais conveniente de gerar strings dinamicamente em _Python_.\n",
    "\n",
    "### Formatando _strings_\n",
    "\n",
    "Para nossa tabuada ficar com a cara usual, ao invés de imprimirmos somente o resultados das multiplicações, seria interessante imprimir a própria operação, tipo:\n",
    "```\n",
    "7 x 1 = 7\n",
    "7 x 2 = 14\n",
    "...\n",
    "```\n",
    "Para imprimirmos isso temos de gerar, a cada iteração do loop, uma string contendo a base, o multiplicador ($1\\ldots10$) e o resultado da multiplicação. Isso pode ser feito usando uma chamada a `print` com vários argumentos, como por exemplo:\n",
    "\n",
    "base = 7 \n",
    "mult = 1\n",
    "print(base, 'x', mult, '=', base * mult)\n",
    "\n",
    "-->"
   ]
  },
  {
   "cell_type": "markdown",
   "metadata": {},
   "source": [
    "#### Exercício\n",
    "\n",
    "Escreva uma função, chamada `tabuada_do` que recebe uma base (um número de 1 a 9) como argumento e imprime a respectiva tabuada. Por exemplo, o resultado de `tabuada_do(4)` deve ser:\n",
    "```\n",
    ">tabuada_do(4)\n",
    "4 x 1 = 4\n",
    "4 x 2 = 8\n",
    "4 x 3 = 12\n",
    "4 x 4 = 16\n",
    "4 x 5 = 20\n",
    "4 x 6 = 24\n",
    "4 x 7 = 28\n",
    "4 x 8 = 32\n",
    "4 x 9 = 36\n",
    "\n",
    "```\n",
    "Já deixamos um esqueleto pronto na célula de código abaixo: "
   ]
  },
  {
   "cell_type": "code",
   "execution_count": null,
   "metadata": {},
   "outputs": [],
   "source": [
    "# Exercício: tabuada. Substitua os ?? para gerar o que é pedido acima\n",
    "\n",
    "def tabuada_do(base):\n",
    "    for ?? in ??:\n",
    "        print(??, 'x', ??, '=', ??)\n",
    "        \n",
    "tabuada_do(4)  # resultado tem de ser o mesmo da célula acima\n"
   ]
  },
  {
   "cell_type": "markdown",
   "metadata": {},
   "source": [
    "## Gráficos <a name=\"graficos\"></a>\n",
    "\n",
    "Há diversos bibliotecas para geração de gráficos em _Python_. Utilizaremos uma bastante difundida, chamada [matplotlib](https://matplotlib.org/). Ela funciona nativamente bem dentro de _Jupyter notebooks_ (apesar de não permitir [jul 2020] gráficos interativos[<sup>1</sup>](#nota-mpl) no _colab_), e possibilita fazer todos os tipos de gráficos tipicamente utilizados em computação científica.\n",
    "\n",
    "\n",
    "<a name=\"nota-mpl\">[1]</a> Caso você esteja utilizando um _jupyter notebook_ em seu próprio computador (sem ser via _colab_), é possível ativar figuras interativas no notebook executando uma célula contendo `%matplotlib notebook` (note o sinal de `%`) antes de importar a biblioteca. \n",
    "\n",
    "### Matplotlib\n",
    "\n",
    "Para ter acesso às funcionalidades da biblioteca, temos de importar o módulo correspondente. Como _matplotlib_ tem um número imenso de funcionalidades, estas estão organizadas segundo submódulos. Nós utilizaremos um chamado [pyplot](https://matplotlib.org/tutorials/introductory/pyplot.html#sphx-glr-tutorials-introductory-pyplot-py).\n",
    "\n",
    "\n",
    "#### Importando o módulo\n",
    "\n",
    "Para não ficar digitando `matlplot.pyplot.` toda vez, costuma-se fazer `import matplotlib.pyplot as plt`, e usar `plt.` para identificar o módulo.\n",
    "\n",
    "\n",
    "#### A função `plot`\n",
    "\n",
    "A função que mais utilizaremos para gerar gráficos chama-se `plot`. Uma forma muito usual de utilizá-la é passar duas [listas](#listas) como argumentos, a primeira com as coordenadas $x$ (abscissa) dos pontos no gráfico, e o segundo com as coordenadas $y$ (ordenadas). Por padrão, os pontos são interpolados com segmentos de reta. Vejamos um exemplo:"
   ]
  },
  {
   "cell_type": "code",
   "execution_count": 4,
   "metadata": {},
   "outputs": [
    {
     "data": {
      "text/plain": [
       "Text(0, 0.5, 'Temperatura (°C)')"
      ]
     },
     "execution_count": 4,
     "metadata": {},
     "output_type": "execute_result"
    },
    {
     "data": {
      "image/png": "[encoded data removed]",
      "text/plain": [
       "<Figure size 432x288 with 1 Axes>"
      ]
     },
     "metadata": {
      "needs_background": "light"
     },
     "output_type": "display_data"
    }
   ],
   "source": [
    "import matplotlib.pyplot as plt\n",
    "\n",
    "temperatura = [18, 20, 21, 22, 22, 21, 22, 20, 19, 18]\n",
    "hora = [10, 11, 12, 13, 14, 15, 16, 17, 18, 19]\n",
    "\n",
    "plt.plot(hora, temperatura)\n",
    "plt.xlabel('Hora do dia')\n",
    "plt.ylabel('Temperatura (°C)')"
   ]
  },
  {
   "cell_type": "markdown",
   "metadata": {},
   "source": [
    "#### Nomeando os eixos\n",
    "\n",
    "<font color=\"red\">Sempre rotule os eixos</font>. Para fazê-lo (conforme figura acima), utilize as funções `xlabel` e `ylabel`."
   ]
  },
  {
   "cell_type": "markdown",
   "metadata": {},
   "source": [
    "#### Customizando o estilo do gráfico\n",
    "\n",
    "Por padrão, `plot` produz um gráfico de linhas, ligando os pontos da lista. É possível mudar propriedades da linha (inclusive suprimindo-a), além de adicionar pontos com diferentes marcadores. \n",
    "\n",
    "Para mudar o estilo, passamos um terceiro argumento a `plot`, uma string especificando o tipo de linha, pontos e cor. Alguns estilos comumente usados são:\n",
    "- `'or'`: pontos circulares \"cheios\" (a letra `o`) em vermelho (`r`ed)\n",
    "- `'-ob'`: linha (`-`) com pontos circulares \"cheios\" em azul (`b`lue)\n",
    "- `':k'`: linha pontilada (`:`) em preto (blac`k`)\n",
    "- `'*r'`: estrelas vermelhas\n",
    "\n",
    "Note que o estilo padrão é `'-b'` (linha cheia em azul, sem pontos).\n",
    "\n",
    "\n",
    "\n",
    "Veja os links a seguir para a lista completa de [tipos de pontos](https://matplotlib.org/3.1.0/api/markers_api.html#module-matplotlib.markers), [estilos de linha](https://matplotlib.org/gallery/lines_bars_and_markers/line_styles_reference.html) e [cores](https://matplotlib.org/2.0.2/api/colors_api.html)\n",
    "\n",
    "Experimente com estas opções no gráfico abaixo:"
   ]
  },
  {
   "cell_type": "code",
   "execution_count": 5,
   "metadata": {},
   "outputs": [
    {
     "data": {
      "text/plain": [
       "Text(0, 0.5, 'Temperatura (°C)')"
      ]
     },
     "execution_count": 5,
     "metadata": {},
     "output_type": "execute_result"
    },
    {
     "data": {
      "image/png": "[encoded data removed]",
      "text/plain": [
       "<Figure size 432x288 with 1 Axes>"
      ]
     },
     "metadata": {
      "needs_background": "light"
     },
     "output_type": "display_data"
    }
   ],
   "source": [
    "# mude o último argumento do `plot` e veja o efeito de cada estilo na lista acima\n",
    "plt.plot(hora, temperatura, 'sr')\n",
    "plt.xlabel('Hora do dia')\n",
    "plt.ylabel('Temperatura (°C)')"
   ]
  },
  {
   "cell_type": "markdown",
   "metadata": {},
   "source": [
    "#### Criando e configurando figuras\n",
    "\n",
    "Se você chamar a função `plot` subsequentemente na mesma célula, terá gráficos superpostos:"
   ]
  },
  {
   "cell_type": "code",
   "execution_count": 6,
   "metadata": {},
   "outputs": [
    {
     "data": {
      "text/plain": [
       "<matplotlib.legend.Legend at 0x7ff4a24b1c50>"
      ]
     },
     "execution_count": 6,
     "metadata": {},
     "output_type": "execute_result"
    },
    {
     "data": {
      "image/png": "[encoded data removed]",
      "text/plain": [
       "<Figure size 432x288 with 1 Axes>"
      ]
     },
     "metadata": {
      "needs_background": "light"
     },
     "output_type": "display_data"
    }
   ],
   "source": [
    "plt.plot(hora, temperatura, '-ok', label='temp.')\n",
    "plt.plot([10, 19], [20.3, 20.3], ':r', label='temp. média')  # por que isso dá uma reta?\n",
    "\n",
    "plt.xlabel('Hora do dia')\n",
    "plt.ylabel('Temperatura (°C)')\n",
    "plt.legend() # legenda, de acordo com `label` de cada linha"
   ]
  },
  {
   "cell_type": "markdown",
   "metadata": {},
   "source": [
    "Caso você queira fazer dois gráficos na mesma célula, utilize a função `figure` para criar uma nova figura antes de fazer o `plot`. \n",
    "\n",
    "Você pode dar um título para cada gráfico usando a função `title`."
   ]
  },
  {
   "cell_type": "code",
   "execution_count": 19,
   "metadata": {},
   "outputs": [
    {
     "data": {
      "text/plain": [
       "Text(0.5, 1.0, 'Temperatura acima da média das 10h as 19h')"
      ]
     },
     "execution_count": 19,
     "metadata": {},
     "output_type": "execute_result"
    },
    {
     "data": {
      "image/png": "[encoded data removed]",
      "text/plain": [
       "<Figure size 432x288 with 1 Axes>"
      ]
     },
     "metadata": {
      "needs_background": "light"
     },
     "output_type": "display_data"
    },
    {
     "data": {
      "image/png": "[encoded data removed]",
      "text/plain": [
       "<Figure size 432x288 with 1 Axes>"
      ]
     },
     "metadata": {
      "needs_background": "light"
     },
     "output_type": "display_data"
    }
   ],
   "source": [
    "plt.figure()\n",
    "plt.plot(hora, temperatura, '-ok', label='temp.')\n",
    "plt.xlabel('Hora do dia')\n",
    "plt.ylabel('Temperatura (°C)')\n",
    "plt.title('Temperatura medida em algum lugar')\n",
    "\n",
    "plt.figure()\n",
    "plt.plot(hora[2:-3], temperatura[2:-3], '-*')  # o que estamos fazendo aqui?\n",
    "plt.xlabel('Hora do dia')\n",
    "plt.ylabel('Temperatura (°C)')\n",
    "plt.title('Temperatura acima da média das 10h as 19h')"
   ]
  },
  {
   "cell_type": "markdown",
   "metadata": {},
   "source": [
    "#### Aumentando o tamanho de figuras\n",
    "\n",
    "Caso você julgue que as figuras estão muito pequenas, pode alterar seu tamanho passar o argumento `figsize` à função `figure`. O tamanho padrão é 6 polegadas de largura por 4 de altura: `figsize=(6,4)`."
   ]
  },
  {
   "cell_type": "code",
   "execution_count": 32,
   "metadata": {},
   "outputs": [
    {
     "data": {
      "text/plain": [
       "[<matplotlib.lines.Line2D at 0x7ff4a1b7b208>]"
      ]
     },
     "execution_count": 32,
     "metadata": {},
     "output_type": "execute_result"
    },
    {
     "data": {
      "image/png": "[encoded data removed]",
      "text/plain": [
       "<Figure size 864x576 with 1 Axes>"
      ]
     },
     "metadata": {
      "needs_background": "light"
     },
     "output_type": "display_data"
    }
   ],
   "source": [
    "plt.figure(figsize=(12,8))  # dobramos o tamanho padrão\n",
    "plt.plot([1,2], [2, 4])"
   ]
  },
  {
   "cell_type": "markdown",
   "metadata": {},
   "source": [
    "Como o tamanho padrão das figuras (e principalmente da fonte) é um pouco pequeno, você pode alterar o valor padrão **para todos** os gráficos mudando um [dicionário](#dicionarios) de configurações do `matplotlib`:"
   ]
  },
  {
   "cell_type": "code",
   "execution_count": 49,
   "metadata": {},
   "outputs": [
    {
     "data": {
      "text/plain": [
       "[<matplotlib.lines.Line2D at 0x7ff4a178cbe0>]"
      ]
     },
     "execution_count": 49,
     "metadata": {},
     "output_type": "execute_result"
    },
    {
     "data": {
      "image/png": "[encoded data removed]",
      "text/plain": [
       "<Figure size 522x322.56 with 1 Axes>"
      ]
     },
     "metadata": {
      "needs_background": "light"
     },
     "output_type": "display_data"
    }
   ],
   "source": [
    "import matplotlib\n",
    "matplotlib.rcParams['figure.figsize'] = (7.25, 4.48)  # coluna dupla em várias revista científicas\n",
    "matplotlib.rcParams['font.size'] = 12  # fonte um pouco maior\n",
    "# a partir de agora, todos os gráficos terão este novo tamanho e fonte. \n",
    "\n",
    "plt.plot([1,2, 3], [2, 4, 2], '-vr')"
   ]
  },
  {
   "cell_type": "markdown",
   "metadata": {},
   "source": [
    "#### Salvando gráficos\n",
    "\n",
    "Para salvar um gráfico feito no _colab_, a maneira mais direta é clicar com o botão direito sobre a figura e escolher \"Salvar imagem como\". \n",
    "\n",
    "Uma maneira menos interativa (e mais natural quando se está utilizando o _Jupyter Notebook_ diretamente do computador, sem ser via _colab_) envolve salvar o arquivo com a função `figsave`. Como os arquivos salvos no _colab_ vivem numa máquina virtual, é necessário fazer download de cada arquivo salvo (há um explorador de arquivos no menu à esquerda); isto pode também ser feito via _Python_, conforme o exemplo abaixo:"
   ]
  },
  {
   "cell_type": "code",
   "execution_count": null,
   "metadata": {},
   "outputs": [],
   "source": [
    "plt.savefig('teste.png')  # no colab, isso gera um arquivo na máquina virtual, remota\n",
    "                          #  para um Jupyter Notebook rodando no seu computador, isso basta!\n",
    "    \n",
    "from google.colab import files  # este módulo permite interagir com arquivos remotos no colab\n",
    "files.download('teste.png')  # fazemos download do arquivo criado acima"
   ]
  },
  {
   "cell_type": "markdown",
   "metadata": {},
   "source": [
    "## Funções que operam em vários valores <a name=\"numpy\"></a>\n",
    "\n",
    "Até agora, todas as vezes em que trabalhamos com conjuntos de dados envolveram escrevê-los manualmente numa [lista](#listas). Há uma biblioteca _Python_ chamada [numpy](https://numpy.org/) que permite operar de forma extremamente conveniente (e eficiente) com sequências de números. \n",
    "\n",
    "Para entender o quão útil, consideremos um problema simples: dada uma lista com números, como obter outra lista com o dobro de cada elemento? \n",
    "\n",
    "Para as [listas](#listas) discutidas anteriormente, uma solução possível (mas ruim, como veremos!) envolver iterar sobre a lista e ir calculando o dobro de cada elemento, armazenando cada resultado numa nova lista. Para isto, precisamos utilizar o [método](#metodos_listas) `append`:"
   ]
  },
  {
   "cell_type": "code",
   "execution_count": 71,
   "metadata": {},
   "outputs": [
    {
     "name": "stdout",
     "output_type": "stream",
     "text": [
      "lista original: [0, 1, 2, 3, 4, 5, 6, 7, 8, 9]\n",
      "lista dobrada: [0, 2, 4, 6, 8, 10, 12, 14, 16, 18]\n"
     ]
    }
   ],
   "source": [
    "numeros = range(10) # [0, 1, ... , 9]\n",
    "print('lista original:', list(numeros))\n",
    "\n",
    "dobrados = []  # lista vazia para armazenar resultado\n",
    "for num in numeros:\n",
    "    dobrados.append(num * 2)\n",
    "    \n",
    "print('lista dobrada:', dobrados)"
   ]
  },
  {
   "cell_type": "markdown",
   "metadata": {},
   "source": [
    "### Parênteses: _List Comprehension_ <a name=\"comprehension\"></a>\n",
    "\n",
    "Construir uma lista a partir de elementos doutra, conforme fizemos acima, é uma operação tão comum que _Python_ possui uma sintaxe especial para tanto, que omite o loop for explícito e o uso de `append`:"
   ]
  },
  {
   "cell_type": "code",
   "execution_count": 83,
   "metadata": {},
   "outputs": [
    {
     "name": "stdout",
     "output_type": "stream",
     "text": [
      "[0, 2, 4, 6, 8, 10, 12, 14, 16, 18]\n"
     ]
    }
   ],
   "source": [
    "# maneira mais eficiente (mas ainda não ideal) de dobrar uma lista\n",
    "numeros = range(10) # [0, 1, ... , 9]\n",
    "\n",
    "dobrados = [2 * num for num in numeros]  # mais conciso que o `for` acima!\n",
    "\n",
    "print(dobrados)"
   ]
  },
  {
   "cell_type": "markdown",
   "metadata": {},
   "source": [
    "### Facilitando a vida com _numpy_\n",
    "\n",
    "Mesmo com a sintaxe econômica de [list comprehensions](#comprehension), não seria incrível se pudessemos simplesmente calcular o dobro de cada elemento em `lista` fazendo `2 * lista`? \n",
    "\n",
    "Infelizmente, [vimos anteriormente](#listas) que multiplicar uma lista por um número `n` simplesmente repete a lista `n` vezes:"
   ]
  },
  {
   "cell_type": "code",
   "execution_count": 78,
   "metadata": {},
   "outputs": [
    {
     "data": {
      "text/plain": [
       "[1, 2, 3, 1, 2, 3, 1, 2, 3]"
      ]
     },
     "execution_count": 78,
     "metadata": {},
     "output_type": "execute_result"
    }
   ],
   "source": [
    "3 * [1,2,3]"
   ]
  },
  {
   "cell_type": "markdown",
   "metadata": {},
   "source": [
    "Felizmente, _numpy_ nos fornece um tipo chamado `array`, que apesar de se comportar como uma lista em quase todos os contextos, nos permite fazer o que queremos:"
   ]
  },
  {
   "cell_type": "code",
   "execution_count": 86,
   "metadata": {},
   "outputs": [
    {
     "data": {
      "text/plain": [
       "array([2, 4, 6])"
      ]
     },
     "execution_count": 86,
     "metadata": {},
     "output_type": "execute_result"
    }
   ],
   "source": [
    "import numpy\n",
    "numeros = numpy.array([1,2,3])\n",
    "2 * numeros\n"
   ]
  },
  {
   "cell_type": "markdown",
   "metadata": {},
   "source": [
    "Se você ainda não está convencido de que isto é útil, considere agora o problema de fazer um gráfico de uma função (matemática), como por exemplo cosseno. \n",
    "\n",
    "Já vimos [como calcular o cosseno](#import) de um arco utilizando `math.cos`. Para fazer o gráfico da função, precisamos escolher vários pontos $x_i$ e calcular $\\cos{x_i}$. Este é exatamente o problema visto acima: aplicar uma função (no caso acima, $f(x)=2*x$) a todos os elementos de uma lista, guardando o resultado numa segunda lista.\n",
    "\n",
    "Não seria incrível se pudessemos, assim como no caso acima (multiplicar uma array por dois gera uma nova array com cada elemento multiplicado por dois), ter uma versão de `cos` que opera simultâneamente numa lista inteira?\n",
    "\n",
    "É exatamente isto que a função `cos` **do módulo numpy** (não a do módulo `math`!) faz:"
   ]
  },
  {
   "cell_type": "code",
   "execution_count": 88,
   "metadata": {},
   "outputs": [
    {
     "name": "stdout",
     "output_type": "stream",
     "text": [
      "cos(0)= 1.0\n"
     ]
    },
    {
     "ename": "TypeError",
     "evalue": "must be real number, not list",
     "output_type": "error",
     "traceback": [
      "\u001b[0;31m---------------------------------------------------------------------------\u001b[0m",
      "\u001b[0;31mTypeError\u001b[0m                                 Traceback (most recent call last)",
      "\u001b[0;32m<ipython-input-88-f65839505420>\u001b[0m in \u001b[0;36m<module>\u001b[0;34m()\u001b[0m\n\u001b[1;32m      3\u001b[0m \u001b[0;34m\u001b[0m\u001b[0m\n\u001b[1;32m      4\u001b[0m \u001b[0mprint\u001b[0m\u001b[0;34m(\u001b[0m\u001b[0;34m'cos(0)='\u001b[0m\u001b[0;34m,\u001b[0m \u001b[0mcos\u001b[0m\u001b[0;34m(\u001b[0m\u001b[0;36m0\u001b[0m\u001b[0;34m)\u001b[0m\u001b[0;34m)\u001b[0m  \u001b[0;31m# tudo bem, cosseno de um número\u001b[0m\u001b[0;34m\u001b[0m\u001b[0;34m\u001b[0m\u001b[0m\n\u001b[0;32m----> 5\u001b[0;31m \u001b[0mprint\u001b[0m\u001b[0;34m(\u001b[0m\u001b[0mcos\u001b[0m\u001b[0;34m(\u001b[0m\u001b[0;34m[\u001b[0m\u001b[0;36m0\u001b[0m\u001b[0;34m,\u001b[0m \u001b[0mpi\u001b[0m\u001b[0;34m]\u001b[0m\u001b[0;34m)\u001b[0m\u001b[0;34m)\u001b[0m  \u001b[0;31m# será que calcula os dois numa tacada?\u001b[0m\u001b[0;34m\u001b[0m\u001b[0;34m\u001b[0m\u001b[0m\n\u001b[0m",
      "\u001b[0;31mTypeError\u001b[0m: must be real number, not list"
     ]
    }
   ],
   "source": [
    "import math \n",
    "\n",
    "print('cos(0)=', math.cos(0))  # tudo bem, cosseno de um número\n",
    "print(math.cos([0, math.pi]))  # vai dar erro, pois não opera sobre listas..."
   ]
  },
  {
   "cell_type": "code",
   "execution_count": 112,
   "metadata": {},
   "outputs": [
    {
     "data": {
      "text/plain": [
       "array([ 1.000000e+00,  6.123234e-17, -1.000000e+00])"
      ]
     },
     "execution_count": 112,
     "metadata": {},
     "output_type": "execute_result"
    }
   ],
   "source": [
    "# agora, vamos tentar o cosseno do numpy\n",
    "import numpy\n",
    "numpy.cos([0, numpy.pi/2, numpy.pi])  # agora funciona numa lista!"
   ]
  },
  {
   "cell_type": "markdown",
   "metadata": {},
   "source": [
    "Veja o que aconteceu na célula acima: calculamos, de uma tacada só, o cosseno de três arcos.\n",
    "    \n",
    "Voltando ao problema de fazer o gráfico da função cosseno, vamos agora gerar um lista com vários números de $0$ a $2 \\pi$ (por quê?), e usar `numpy.cos` para calcular de uma vez o cosseno de todos.\n",
    "\n",
    "Para gerar esta lista de números (o número de elementos dará a resolução do gráfico), pode-se usar a [função range](#range) vista acima. Porém, por conta de [erros de mais ou menos um](https://en.wikipedia.org/wiki/Off-by-one_error) é mais simples utilizar a função `linspace` do `numpy`. Esta função recebe três argumentos: um valor inicial, um valor final e o número de pontos dejesado, retornando uma lista de acordo:"
   ]
  },
  {
   "cell_type": "code",
   "execution_count": 103,
   "metadata": {},
   "outputs": [
    {
     "name": "stdout",
     "output_type": "stream",
     "text": [
      "[0.    0.125 0.25  0.375 0.5   0.625 0.75  0.875 1.   ]\n"
     ]
    }
   ],
   "source": [
    "from numpy import linspace\n",
    "\n",
    "# vamos entender o que faz `linspace`:\n",
    "print(linspace(0, 1, 9))  #  simples: 9 pontos de 0 a 1"
   ]
  },
  {
   "cell_type": "code",
   "execution_count": 109,
   "metadata": {},
   "outputs": [
    {
     "data": {
      "text/plain": [
       "Text(0, 0.5, '$\\\\cos(x)$')"
      ]
     },
     "execution_count": 109,
     "metadata": {},
     "output_type": "execute_result"
    },
    {
     "data": {
      "image/png": "[encoded data removed]",
      "text/plain": [
       "<Figure size 522x322.56 with 1 Axes>"
      ]
     },
     "metadata": {
      "needs_background": "light"
     },
     "output_type": "display_data"
    }
   ],
   "source": [
    "from numpy import linspace, pi, cos   # assim, não precisamos fazer numpy.cos, basta `cos`\n",
    "import matplotlib.pyplot as plt\n",
    "\n",
    "# vamos agora gerar 100 pontos de 0 a 2π\n",
    "xs = linspace(0, 2*pi, 100)\n",
    "\n",
    "# calculamos os cossenos destes `xs`\n",
    "cos_xs = cos(xs)  # simples assim!\n",
    "\n",
    "# finalmente, fazemos o gráfico\n",
    "plt.plot(xs, cos_xs)\n",
    "plt.xlabel('$x$')\n",
    "plt.ylabel('$\\cos(x)$')"
   ]
  },
  {
   "cell_type": "markdown",
   "metadata": {},
   "source": [
    "#### Funções comumente usadas em `numpy`\n",
    "\n",
    "Além das operações aritméticas básicas, eis algumas funções que operam sobre arrays que costumamos utilizar:\n",
    "- funções trigonométricas e suas inversas (p. ex. `sin`, `arcsin`)\n",
    "- funções trigonométricas e suas inversas (p. ex. `tanh`, `arctanh`)\n",
    "- exponenciais (função `exp` $e^x$, ou opearador `**`)\n",
    "- logaritmos (`log` para base $e$, `log10`, `log2`)\n",
    "\n",
    "Aproveitaremos os exemplos abaixo para mostrar mais funcionalidades `matplotlib`."
   ]
  },
  {
   "cell_type": "code",
   "execution_count": 182,
   "metadata": {},
   "outputs": [
    {
     "data": {
      "text/plain": [
       "<matplotlib.legend.Legend at 0x7ff4a03b90b8>"
      ]
     },
     "execution_count": 182,
     "metadata": {},
     "output_type": "execute_result"
    },
    {
     "data": {
      "image/png": "[encoded data removed]",
      "text/plain": [
       "<Figure size 522x322.56 with 1 Axes>"
      ]
     },
     "metadata": {
      "needs_background": "light"
     },
     "output_type": "display_data"
    }
   ],
   "source": [
    "from numpy import sin, arcsin, linspace, pi\n",
    "x = linspace(-pi/2, pi/2, 100)\n",
    "xi = linspace(-1, 1, 100)\n",
    "\n",
    "plt.plot(x, sin(x), '-r', label='$\\sin(x)$')\n",
    "plt.plot(xi, arcsin(xi), label='$\\sin^{-1}(x)$')\n",
    "plt.plot(x, x, ':k')\n",
    "plt.grid()  # linhas de grade\n",
    "plt.axis('square')  # faz um gráfico com altura e largura iguais\n",
    "plt.legend()"
   ]
  },
  {
   "cell_type": "code",
   "execution_count": 188,
   "metadata": {},
   "outputs": [
    {
     "data": {
      "text/plain": [
       "(-2.4694528049465325,\n",
       " 7.858508903877183,\n",
       " -2.4694528049465325,\n",
       " 7.858508903877183)"
      ]
     },
     "execution_count": 188,
     "metadata": {},
     "output_type": "execute_result"
    },
    {
     "data": {
      "image/png": "[encoded data removed]",
      "text/plain": [
       "<Figure size 522x322.56 with 1 Axes>"
      ]
     },
     "metadata": {
      "needs_background": "light"
     },
     "output_type": "display_data"
    }
   ],
   "source": [
    "from numpy import log, exp\n",
    "x = linspace(-2, 2, 100)\n",
    "xi = exp(x)\n",
    "\n",
    "plt.plot(x, exp(x), label='$e^x$')\n",
    "plt.plot(xi, log(xi), '-r', label='$\\log(x)$')\n",
    "plt.plot([-2, exp(2)], [-2, exp(2)], ':k')\n",
    "plt.grid() \n",
    "plt.legend()\n",
    "plt.axis('square')"
   ]
  },
  {
   "cell_type": "markdown",
   "metadata": {},
   "source": [
    "Temos também funções utilitárias, convenientes pra trabalhar com sequências numéricas:\n",
    "- `linspace(primeiro, último, n_pontos)`: gera `n_pontos` equiespaçados entre `começo` e `fim` \n",
    "- `ones(n)`: gera um array com `n` vezes o número 1.\n",
    "- `zeros(n)`: gera um array com `n` zeros.\n",
    "- `arange(n)`: gera array com inteiros de $0$ a $n-1$ (análogo à função predefinida `range`)"
   ]
  },
  {
   "cell_type": "code",
   "execution_count": 199,
   "metadata": {},
   "outputs": [
    {
     "data": {
      "text/plain": [
       "[<matplotlib.lines.Line2D at 0x7ff4a0079978>]"
      ]
     },
     "execution_count": 199,
     "metadata": {},
     "output_type": "execute_result"
    },
    {
     "data": {
      "image/png": "[encoded data removed]",
      "text/plain": [
       "<Figure size 522x322.56 with 1 Axes>"
      ]
     },
     "metadata": {
      "needs_background": "light"
     },
     "output_type": "display_data"
    }
   ],
   "source": [
    "from numpy import zeros, ones\n",
    "\n",
    "x = linspace(-1, 1, 9) \n",
    "\n",
    "plt.plot(x, zeros(len(x)), '-ok', linewidth=2)\n",
    "plt.plot(x, ones(len(x)), '-sr', linewidth=2)"
   ]
  },
  {
   "cell_type": "code",
   "execution_count": 354,
   "metadata": {},
   "outputs": [],
   "source": [
    "from numpy.random import rand, randn, randint\n",
    "?randn"
   ]
  },
  {
   "cell_type": "markdown",
   "metadata": {},
   "source": [
    "#### Arrays com mais de um índice (por exemplo, matrizes)\n",
    "\n",
    "Até agora, trabalhamos com arrays em _numpy_ extremamente parecidas com listas de _Python_: podemos recuperar o i-ésimo elemento fazedo `x[i]`, determinar o número de elemento fazendo `len(x)`, fatiar.\n",
    "\n",
    "Entretanto, _numpy_ não está limitado a arrays com apenas um índice. Considere o exemplo abaixo:"
   ]
  },
  {
   "cell_type": "code",
   "execution_count": 240,
   "metadata": {},
   "outputs": [
    {
     "name": "stdout",
     "output_type": "stream",
     "text": [
      "[[11 12]\n",
      " [21 22]]\n"
     ]
    }
   ],
   "source": [
    "from numpy import array\n",
    "misterio = array([\n",
    "    [11, 12],\n",
    "    [21, 22]\n",
    "])\n",
    "print(misterio)"
   ]
  },
  {
   "cell_type": "markdown",
   "metadata": {},
   "source": [
    "Note que `misterio` é construída a partir de uma lista que contém duas listas. \n",
    "\n",
    "Vejamos agora como indexar os elementos de mistério:"
   ]
  },
  {
   "cell_type": "code",
   "execution_count": 207,
   "metadata": {},
   "outputs": [
    {
     "name": "stdout",
     "output_type": "stream",
     "text": [
      "[11 12]\n"
     ]
    }
   ],
   "source": [
    "print(misterio[0])  # será que isto dá o primeiro elemento (11)?"
   ]
  },
  {
   "cell_type": "markdown",
   "metadata": {
    "slideshow": {
     "slide_type": "slide"
    }
   },
   "source": [
    "Isto é decorrente do fato de `misterio` se comportar exatamente como uma lista de listas. O primeiro elemento (índice 0) da lista mais externa é a lista `[11, 12]`. Para acessar os números individuais dentro de `misterio`, precisamos então usar dois índices: "
   ]
  },
  {
   "cell_type": "code",
   "execution_count": 235,
   "metadata": {},
   "outputs": [
    {
     "data": {
      "text/plain": [
       "11"
      ]
     },
     "execution_count": 235,
     "metadata": {},
     "output_type": "execute_result"
    }
   ],
   "source": [
    "misterio[0,0]"
   ]
  },
  {
   "cell_type": "markdown",
   "metadata": {},
   "source": [
    "Para determinar o \"formato\" de uma array, utilizamos `shape`:"
   ]
  },
  {
   "cell_type": "code",
   "execution_count": 241,
   "metadata": {},
   "outputs": [
    {
     "data": {
      "text/plain": [
       "(2, 2)"
      ]
     },
     "execution_count": 241,
     "metadata": {},
     "output_type": "execute_result"
    }
   ],
   "source": [
    "misterio.shape"
   ]
  },
  {
   "cell_type": "markdown",
   "metadata": {},
   "source": [
    "As funções `zeros` e `ones` discutidas anteriormente generalizam naturalmente para mútiplas dimensões (note que temos que passar como argumento algo formatado como \"shape\" acima, ou seja, entre parênteses):"
   ]
  },
  {
   "cell_type": "code",
   "execution_count": 245,
   "metadata": {},
   "outputs": [
    {
     "name": "stdout",
     "output_type": "stream",
     "text": [
      "[[0. 0. 0.]\n",
      " [0. 0. 0.]\n",
      " [0. 0. 0.]]\n",
      "[[42. 42. 42. 42. 42. 42. 42. 42. 42. 42.]\n",
      " [42. 42. 42. 42. 42. 42. 42. 42. 42. 42.]\n",
      " [42. 42. 42. 42. 42. 42. 42. 42. 42. 42.]\n",
      " [42. 42. 42. 42. 42. 42. 42. 42. 42. 42.]\n",
      " [42. 42. 42. 42. 42. 42. 42. 42. 42. 42.]\n",
      " [42. 42. 42. 42. 42. 42. 42. 42. 42. 42.]\n",
      " [42. 42. 42. 42. 42. 42. 42. 42. 42. 42.]\n",
      " [42. 42. 42. 42. 42. 42. 42. 42. 42. 42.]\n",
      " [42. 42. 42. 42. 42. 42. 42. 42. 42. 42.]\n",
      " [42. 42. 42. 42. 42. 42. 42. 42. 42. 42.]]\n"
     ]
    }
   ],
   "source": [
    "print(zeros((3,3)))\n",
    "\n",
    "print(42 * ones((10, 10)))"
   ]
  },
  {
   "cell_type": "markdown",
   "metadata": {},
   "source": [
    "Uma maneira conveniente de visualizar uma matriz é tratá-la como uma imagem, que pode ser visualizada com a função `imshow` do matplotlib:"
   ]
  },
  {
   "cell_type": "code",
   "execution_count": 272,
   "metadata": {},
   "outputs": [
    {
     "data": {
      "text/plain": [
       "<matplotlib.image.AxesImage at 0x7ff49e0054e0>"
      ]
     },
     "execution_count": 272,
     "metadata": {},
     "output_type": "execute_result"
    },
    {
     "data": {
      "image/png": "[encoded data removed]",
      "text/plain": [
       "<Figure size 522x322.56 with 1 Axes>"
      ]
     },
     "metadata": {
      "needs_background": "light"
     },
     "output_type": "display_data"
    }
   ],
   "source": [
    "from numpy import tile  # usaremos para gerar uma matriz misteriosa\n",
    "    \n",
    "def matriz_misteriosa(n): \n",
    "    return tile([[0, 1], [1,0]], (n,n))\n",
    "\n",
    "m = matriz_misteriosa(6)\n",
    "\n",
    "plt.imshow(m)  # visualiza matriz `m` como imagem"
   ]
  },
  {
   "cell_type": "markdown",
   "metadata": {},
   "source": [
    "#### Fatiando e indexando arrays\n",
    "\n",
    "Podemos utilizar a mesma sintaxe de fatias para [listas](#listas) em arrays:"
   ]
  },
  {
   "cell_type": "code",
   "execution_count": 326,
   "metadata": {},
   "outputs": [
    {
     "data": {
      "text/plain": [
       "array([0, 1, 2, 3, 4, 5, 6, 7, 8, 9])"
      ]
     },
     "execution_count": 326,
     "metadata": {},
     "output_type": "execute_result"
    }
   ],
   "source": [
    "from numpy import arange\n",
    "num = arange(10)\n",
    "num"
   ]
  },
  {
   "cell_type": "code",
   "execution_count": 327,
   "metadata": {},
   "outputs": [
    {
     "data": {
      "text/plain": [
       "array([4, 5])"
      ]
     },
     "execution_count": 327,
     "metadata": {},
     "output_type": "execute_result"
    }
   ],
   "source": [
    "num[4:6]  # 5o. e 6o. elementos (contamos do 0, não inclui último!)"
   ]
  },
  {
   "cell_type": "code",
   "execution_count": 328,
   "metadata": {},
   "outputs": [
    {
     "data": {
      "text/plain": [
       "array([0, 1, 2, 3, 4, 5])"
      ]
     },
     "execution_count": 328,
     "metadata": {},
     "output_type": "execute_result"
    }
   ],
   "source": [
    "num[:6]  # o omitir o primeiro número: começa do primeiro elemento"
   ]
  },
  {
   "cell_type": "code",
   "execution_count": 329,
   "metadata": {},
   "outputs": [
    {
     "data": {
      "text/plain": [
       "array([6, 7, 8, 9])"
      ]
     },
     "execution_count": 329,
     "metadata": {},
     "output_type": "execute_result"
    }
   ],
   "source": [
    "num[6:]  # omitir o segundo número: termina no último elemento"
   ]
  },
  {
   "cell_type": "code",
   "execution_count": 330,
   "metadata": {},
   "outputs": [
    {
     "data": {
      "text/plain": [
       "array([0, 2, 4, 6, 8])"
      ]
     },
     "execution_count": 330,
     "metadata": {},
     "output_type": "execute_result"
    }
   ],
   "source": [
    "num[0:11:2] # primeiro ao último elemento, de 2 em 2"
   ]
  },
  {
   "cell_type": "code",
   "execution_count": 331,
   "metadata": {},
   "outputs": [
    {
     "data": {
      "text/plain": [
       "array([0, 2, 4, 6, 8])"
      ]
     },
     "execution_count": 331,
     "metadata": {},
     "output_type": "execute_result"
    }
   ],
   "source": [
    "num[::2]  # também podemos omitir começo e fim aqui!"
   ]
  },
  {
   "cell_type": "markdown",
   "metadata": {},
   "source": [
    "Note que os é possível fatiar em todos os índices de um array multidimensional:"
   ]
  },
  {
   "cell_type": "code",
   "execution_count": 332,
   "metadata": {},
   "outputs": [
    {
     "name": "stdout",
     "output_type": "stream",
     "text": [
      "[[ 0  1  2  3]\n",
      " [ 4  5  6  7]\n",
      " [ 8  9 10 11]\n",
      " [12 13 14 15]]\n"
     ]
    }
   ],
   "source": [
    "# Vamos criar um array 4 por 4, com números de 0 a 15\n",
    "m = arange(16).reshape(4,4)\n",
    "print(m)"
   ]
  },
  {
   "cell_type": "code",
   "execution_count": 333,
   "metadata": {},
   "outputs": [
    {
     "data": {
      "text/plain": [
       "array([[ 4,  5,  6,  7],\n",
       "       [ 8,  9, 10, 11]])"
      ]
     },
     "execution_count": 333,
     "metadata": {},
     "output_type": "execute_result"
    }
   ],
   "source": [
    "m[1:3]  # só um índice: escolhemos linhas"
   ]
  },
  {
   "cell_type": "code",
   "execution_count": 334,
   "metadata": {},
   "outputs": [
    {
     "data": {
      "text/plain": [
       "array([[ 4,  5,  6,  7],\n",
       "       [ 8,  9, 10, 11]])"
      ]
     },
     "execution_count": 334,
     "metadata": {},
     "output_type": "execute_result"
    }
   ],
   "source": [
    "# isso é o mesmo que acima\n",
    "m[1:3, :]  #  o segundo índice é um slice de começo a fim para colunas"
   ]
  },
  {
   "cell_type": "code",
   "execution_count": 336,
   "metadata": {},
   "outputs": [
    {
     "data": {
      "text/plain": [
       "array([ 0,  4,  8, 12])"
      ]
     },
     "execution_count": 336,
     "metadata": {},
     "output_type": "execute_result"
    }
   ],
   "source": [
    "m[:, 0]  # linhas do começo ao fim, primeira coluna"
   ]
  },
  {
   "cell_type": "code",
   "execution_count": 337,
   "metadata": {},
   "outputs": [
    {
     "data": {
      "text/plain": [
       "array([[ 1,  2],\n",
       "       [ 5,  6],\n",
       "       [ 9, 10],\n",
       "       [13, 14]])"
      ]
     },
     "execution_count": 337,
     "metadata": {},
     "output_type": "execute_result"
    }
   ],
   "source": [
    "m[:, 1:3]  # linhas do começo ao fim, segunda e terceira colunas"
   ]
  },
  {
   "cell_type": "markdown",
   "metadata": {
    "slideshow": {
     "slide_type": "fragment"
    }
   },
   "source": [
    "#### Indexando arrays com condições\n",
    "\n",
    "Também é possível indexar arrays usando uma lista (com mesmo formato da array) de índices booleanos (com `True` nos elementos que dever ser tomados, e `False` nos que não devem):"
   ]
  },
  {
   "cell_type": "code",
   "execution_count": 345,
   "metadata": {},
   "outputs": [
    {
     "name": "stdout",
     "output_type": "stream",
     "text": [
      "[0 1 2 3 4 5 6 7 8 9]\n",
      "[0 2 4 6 8]\n"
     ]
    }
   ],
   "source": [
    "num = arange(10)  # array de 0 a 9 \n",
    "print(num)\n",
    "\n",
    "quais = [True, False, True, False, True, False, True, False, True, False]  # tem que ter 10!\n",
    "print(num[quais])"
   ]
  },
  {
   "cell_type": "markdown",
   "metadata": {},
   "source": [
    "Isso parace desnecessariamente complicado, até lembrarmos que comparações em _Python_ retornam valores booleanos e que, assim como para aritmética, os operadores lógicos funcionam sobre todos os elementos de uma array:"
   ]
  },
  {
   "cell_type": "code",
   "execution_count": 351,
   "metadata": {},
   "outputs": [
    {
     "name": "stdout",
     "output_type": "stream",
     "text": [
      "num: [0 1 2 3 4 5 6 7 8 9]\n",
      "num > 5: [False False False False False False  True  True  True  True]\n"
     ]
    }
   ],
   "source": [
    "print('num:', num)\n",
    "print('num > 5:', num > 5)  # testa elemento a elemento"
   ]
  },
  {
   "cell_type": "markdown",
   "metadata": {},
   "source": [
    "Podemos então usar o resultado de uma operação lógiga como índice, para extrair os elementos para os quais a condição é verdadeira:"
   ]
  },
  {
   "cell_type": "code",
   "execution_count": 350,
   "metadata": {},
   "outputs": [
    {
     "data": {
      "text/plain": [
       "array([6, 7, 8, 9])"
      ]
     },
     "execution_count": 350,
     "metadata": {},
     "output_type": "execute_result"
    }
   ],
   "source": [
    "num[num > 5]"
   ]
  },
  {
   "cell_type": "code",
   "execution_count": 362,
   "metadata": {},
   "outputs": [
    {
     "data": {
      "image/png": "[encoded data removed]",
      "text/plain": [
       "<Figure size 522x322.56 with 1 Axes>"
      ]
     },
     "metadata": {
      "needs_background": "light"
     },
     "output_type": "display_data"
    }
   ],
   "source": [
    "x = linspace(-2*pi, 2*pi, 100)\n",
    "seno = sin(x)\n",
    "negativos = sin(x) < 0\n",
    "plt.plot(x, seno, '-k')\n",
    "plt.plot(x[negativos], seno[negativos], '*r')\n",
    "plt.grid()"
   ]
  },
  {
   "cell_type": "markdown",
   "metadata": {},
   "source": [
    "## Trabalhando com dados externos <a name=\"dados\"></a>\n",
    "\n",
    "Para guardar um array do _numpy_ em um arquivo (legível por seres humanos), utilize a função `savetxt`, que recebe como parâmetros uma string com nome do arquivo e a própria array a ser salva."
   ]
  },
  {
   "cell_type": "code",
   "execution_count": 4,
   "metadata": {},
   "outputs": [],
   "source": [
    "from numpy import savetxt, linspace, tanh, pi, column_stack\n",
    "import matplotlib.pyplot as plt\n",
    "\n",
    "# vamos criar alguns dados para salvar no arquivo\n",
    "x = linspace(-5, 5)\n",
    "x_tanhx = column_stack([x, tanh(x)])  # array com duas colunas\n",
    "\n",
    "# salvamos a array `x_tanx` no arquivo `tangente.txt`\n",
    "savetxt('tangente_hip.txt', x_tanhx)"
   ]
  },
  {
   "cell_type": "markdown",
   "metadata": {},
   "source": [
    "Para carregar arquivos com dados em formato texto (por exemplo, exportados de uma planilha) é conveniente utilizar a função `loadtxt`."
   ]
  },
  {
   "cell_type": "markdown",
   "metadata": {},
   "source": [
    "Esta função recebe uma string com o caminho para arquivo no sistema (por exemplo `/home/eu/dados.txt` no _Linux_ ou `c:\\pasta\\dados.txt` no _Windows_). O caminho é relativo ao diretório em que está o _jupyter notebook_, ou seja, caso os dados estejam no mesmo diretório que o _notebook_, basta fazer `loadtxt('dados.txt')`."
   ]
  },
  {
   "cell_type": "code",
   "execution_count": 5,
   "metadata": {},
   "outputs": [
    {
     "data": {
      "text/plain": [
       "[<matplotlib.lines.Line2D at 0x7f09ec65f7b8>]"
      ]
     },
     "execution_count": 5,
     "metadata": {},
     "output_type": "execute_result"
    },
    {
     "data": {
      "image/png": "[encoded data removed]",
      "text/plain": [
       "<Figure size 432x288 with 1 Axes>"
      ]
     },
     "metadata": {
      "needs_background": "light"
     },
     "output_type": "display_data"
    }
   ],
   "source": [
    "from numpy import loadtxt\n",
    "\n",
    "dados = loadtxt('tangente_hip.txt')\n",
    "plt.plot(dados[:,0], dados[:,1])\n"
   ]
  },
  {
   "cell_type": "markdown",
   "metadata": {},
   "source": [
    "### Somente para usuários do _colab_\n",
    "\n",
    "> ATENÇÃO!!!\n",
    "\n",
    "Quando estamos utilizando o _colab_, nosso _notebook_ está rodando numa máquina virtual, criada sob demanda. Isso significa que não temos acesso direto aos arquivos locais (em nosso computador).\n",
    "\n",
    "**Isso também significa que arquivos de dados gravados na máquina virtual serão perdidos uma vez que você encerre a sessão**.\n",
    "\n",
    "Para podermos interagir com a máquina virtual, o própio _colab_ fornece um pacote _Python_ chamado `colab.files`. Como ele, você pode baixar arquivos da máquina virtual para o seu computador, ou enviar arquivos do seu computador para a máquina virtual. Veja abaixo como fazê-lo:"
   ]
  },
  {
   "cell_type": "code",
   "execution_count": null,
   "metadata": {},
   "outputs": [],
   "source": [
    "from colab import files\n",
    "\n",
    "# baixamos o arquivo criado na célula de código anterior\n",
    "files.download('tangente_hip.txt')\n",
    "\n",
    "# verifique agora se o arquivo apareceu na lista de Transferências de seu navegador."
   ]
  },
  {
   "cell_type": "code",
   "execution_count": null,
   "metadata": {},
   "outputs": [],
   "source": [
    "# Para enviar arquivos ao colab, podemos utilizar\n",
    "files.upload()\n",
    "\n",
    "# ao executar esta célula, deve aparecer um botão abaixo para escolha do arquivo"
   ]
  },
  {
   "cell_type": "markdown",
   "metadata": {},
   "source": [
    "### Lendo dados da web\n",
    "\n",
    "Para não ter de ficar transferindo ou movendo arquivos de uma máquina para outra, é conveniente tê-los disponíveis na rede.\n",
    "\n",
    "Felizmente, _numpy_ tem uma função que permite carregar dados diretamente de uma endereço web.\n",
    "\n",
    "Abaixo, carregaremos uma array de um repositório com exemplos. Fica como exercício determinar o que representa esta array."
   ]
  },
  {
   "cell_type": "code",
   "execution_count": 9,
   "metadata": {},
   "outputs": [],
   "source": [
    "from numpy import genfromtxt\n",
    "\n",
    "endereço = 'https://raw.githubusercontent.com/borismarin/sample-data/master/saturno.txt'\n",
    "misterio = genfromtxt(endereço)\n",
    "\n",
    "# desafio: o que está contido na array `misterio`?"
   ]
  },
  {
   "cell_type": "code",
   "execution_count": null,
   "metadata": {},
   "outputs": [],
   "source": []
  }
 ],
 "metadata": {
  "kernelspec": {
   "display_name": "Python 3",
   "language": "python",
   "name": "python3"
  },
  "language_info": {
   "codemirror_mode": {
    "name": "ipython",
    "version": 3
   },
   "file_extension": ".py",
   "mimetype": "text/x-python",
   "name": "python",
   "nbconvert_exporter": "python",
   "pygments_lexer": "ipython3",
   "version": "3.6.9"
  }
 },
 "nbformat": 4,
 "nbformat_minor": 2
}
